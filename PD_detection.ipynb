{
 "cells": [
  {
   "cell_type": "markdown",
   "metadata": {
    "id": "BwW1MC-VvLfV"
   },
   "source": [
    "**Attribute Information:**\n",
    "1. **name** - ASCII subject name and recording number\n",
    "2. **mdvp_fo_hz** - Average vocal fundamental frequency (Actualy column name MDVP:Fo(Hz) )\n",
    "3. **mdvp_fhi_hz** - Maximum vocal fundamental frequency (Actualy column name MDVP:Fhi(Hz) )\n",
    "4. **mdvp_flo_hz** - Minimum vocal fundamental frequency (Actualy column name MDVP:Flo(Hz) )\n",
    "5. **mdvp_jitter_in_percent, mdvp_jitter_abs, mdvp_rap, mdvp_ppq, jitter_ddp** - Several measures of variation in fundamental frequency (Actualy column names MDVP:Jitter(%), MDVP:Jitter(Abs), MDVP:RAP, MDVP:PPQ, Jitter:DDP respectively)\n",
    "6. **mdvp_shimmer, mdvp_shimmer_db, shimmer_apq3, shimmer_apq5, mdvp_apq, shimmer_dda** - Several measures of variation in amplitude (Actualy column names MDVP:Shimmer, MDVP:Shimmer(dB), Shimmer:APQ3, Shimmer:APQ5, MDVP:APQ, Shimmer:DDA respectively)\n",
    "7. **nhr, hnr** - Two measures of ratio of noise to tonal components in the voice (Actualy column names NHR, HNR respectively)\n",
    "8. **rpde, d2** - Two nonlinear dynamical complexity measures (Actualy column names RPDE, D2 respectively)\n",
    "9. **dfa** - Signal fractal scaling exponent (Actualy column name DFA )\n",
    "10. **spread1, spread2, ppe** - Three nonlinear measures of fundamental frequency variation (Actualy column names spread1, spread2, PPE respectively)\n",
    "11. **status** - Health status of the subject (one) - Parkinson's, (zero) - healthy (**Target Varibale / attribute**)"
   ]
  },
  {
   "cell_type": "code",
   "execution_count": null,
   "metadata": {
    "id": "qvNmUGPZvO1N"
   },
   "outputs": [],
   "source": [
    "# Importing the necessary libraries\n",
    "import numpy                            as np                        \n",
    "import pandas                           as pd                        \n",
    "import seaborn                          as sns                       \n",
    "import matplotlib.pyplot                as plt                     \n",
    "import warnings                                                   \n",
    "\n",
    "\n",
    "%matplotlib inline                             \n",
    "warnings.filterwarnings('ignore')                                   \n",
    "\n",
    "import statsmodels.api                  as sm                      \n",
    "from sklearn import model_selection                                  \n",
    "from sklearn.model_selection            import train_test_split      \n",
    "\n",
    "# getting methods for confusion matrix, F1 score, Accuracy Score\n",
    "from sklearn import metrics                                          \n",
    "from sklearn.metrics                    import confusion_matrix,f1_score,accuracy_score,classification_report,roc_curve,auc,average_precision_score\n",
    "from sklearn.linear_model               import LogisticRegression    \n",
    "from sklearn.naive_bayes                import GaussianNB            \n",
    "from sklearn.neighbors                  import KNeighborsClassifier  \n",
    "from sklearn.svm                        import SVC                   \n",
    "\n",
    "\n",
    "from sklearn.preprocessing import StandardScaler\n",
    "\n",
    "from sklearn.tree import DecisionTreeClassifier\n",
    "from sklearn.ensemble import StackingClassifier\n",
    "from sklearn.ensemble import RandomForestClassifier\n",
    "from sklearn.ensemble import AdaBoostClassifier"
   ]
  },
  {
   "cell_type": "code",
   "execution_count": null,
   "metadata": {
    "colab": {
     "base_uri": "https://localhost:8080/",
     "height": 299
    },
    "id": "VD8-_H3rviYc",
    "outputId": "5491b69a-1906-486b-edc0-3ad105e6a9a1"
   },
   "outputs": [
    {
     "data": {
      "text/html": [
       "\n",
       "  <div id=\"df-da05e7cc-f55f-43ad-ac81-d32ea5f671cf\">\n",
       "    <div class=\"colab-df-container\">\n",
       "      <div>\n",
       "<style scoped>\n",
       "    .dataframe tbody tr th:only-of-type {\n",
       "        vertical-align: middle;\n",
       "    }\n",
       "\n",
       "    .dataframe tbody tr th {\n",
       "        vertical-align: top;\n",
       "    }\n",
       "\n",
       "    .dataframe thead th {\n",
       "        text-align: right;\n",
       "    }\n",
       "</style>\n",
       "<table border=\"1\" class=\"dataframe\">\n",
       "  <thead>\n",
       "    <tr style=\"text-align: right;\">\n",
       "      <th></th>\n",
       "      <th>name</th>\n",
       "      <th>MDVP:Fo(Hz)</th>\n",
       "      <th>MDVP:Fhi(Hz)</th>\n",
       "      <th>MDVP:Flo(Hz)</th>\n",
       "      <th>MDVP:Jitter(%)</th>\n",
       "      <th>MDVP:Jitter(Abs)</th>\n",
       "      <th>MDVP:RAP</th>\n",
       "      <th>MDVP:PPQ</th>\n",
       "      <th>Jitter:DDP</th>\n",
       "      <th>MDVP:Shimmer</th>\n",
       "      <th>...</th>\n",
       "      <th>Shimmer:DDA</th>\n",
       "      <th>NHR</th>\n",
       "      <th>HNR</th>\n",
       "      <th>status</th>\n",
       "      <th>RPDE</th>\n",
       "      <th>DFA</th>\n",
       "      <th>spread1</th>\n",
       "      <th>spread2</th>\n",
       "      <th>D2</th>\n",
       "      <th>PPE</th>\n",
       "    </tr>\n",
       "  </thead>\n",
       "  <tbody>\n",
       "    <tr>\n",
       "      <th>0</th>\n",
       "      <td>phon_R01_S01_1</td>\n",
       "      <td>119.992</td>\n",
       "      <td>157.302</td>\n",
       "      <td>74.997</td>\n",
       "      <td>0.00784</td>\n",
       "      <td>0.00007</td>\n",
       "      <td>0.00370</td>\n",
       "      <td>0.00554</td>\n",
       "      <td>0.01109</td>\n",
       "      <td>0.04374</td>\n",
       "      <td>...</td>\n",
       "      <td>0.06545</td>\n",
       "      <td>0.02211</td>\n",
       "      <td>21.033</td>\n",
       "      <td>1</td>\n",
       "      <td>0.414783</td>\n",
       "      <td>0.815285</td>\n",
       "      <td>-4.813031</td>\n",
       "      <td>0.266482</td>\n",
       "      <td>2.301442</td>\n",
       "      <td>0.284654</td>\n",
       "    </tr>\n",
       "    <tr>\n",
       "      <th>1</th>\n",
       "      <td>phon_R01_S01_2</td>\n",
       "      <td>122.400</td>\n",
       "      <td>148.650</td>\n",
       "      <td>113.819</td>\n",
       "      <td>0.00968</td>\n",
       "      <td>0.00008</td>\n",
       "      <td>0.00465</td>\n",
       "      <td>0.00696</td>\n",
       "      <td>0.01394</td>\n",
       "      <td>0.06134</td>\n",
       "      <td>...</td>\n",
       "      <td>0.09403</td>\n",
       "      <td>0.01929</td>\n",
       "      <td>19.085</td>\n",
       "      <td>1</td>\n",
       "      <td>0.458359</td>\n",
       "      <td>0.819521</td>\n",
       "      <td>-4.075192</td>\n",
       "      <td>0.335590</td>\n",
       "      <td>2.486855</td>\n",
       "      <td>0.368674</td>\n",
       "    </tr>\n",
       "    <tr>\n",
       "      <th>2</th>\n",
       "      <td>phon_R01_S01_3</td>\n",
       "      <td>116.682</td>\n",
       "      <td>131.111</td>\n",
       "      <td>111.555</td>\n",
       "      <td>0.01050</td>\n",
       "      <td>0.00009</td>\n",
       "      <td>0.00544</td>\n",
       "      <td>0.00781</td>\n",
       "      <td>0.01633</td>\n",
       "      <td>0.05233</td>\n",
       "      <td>...</td>\n",
       "      <td>0.08270</td>\n",
       "      <td>0.01309</td>\n",
       "      <td>20.651</td>\n",
       "      <td>1</td>\n",
       "      <td>0.429895</td>\n",
       "      <td>0.825288</td>\n",
       "      <td>-4.443179</td>\n",
       "      <td>0.311173</td>\n",
       "      <td>2.342259</td>\n",
       "      <td>0.332634</td>\n",
       "    </tr>\n",
       "    <tr>\n",
       "      <th>3</th>\n",
       "      <td>phon_R01_S01_4</td>\n",
       "      <td>116.676</td>\n",
       "      <td>137.871</td>\n",
       "      <td>111.366</td>\n",
       "      <td>0.00997</td>\n",
       "      <td>0.00009</td>\n",
       "      <td>0.00502</td>\n",
       "      <td>0.00698</td>\n",
       "      <td>0.01505</td>\n",
       "      <td>0.05492</td>\n",
       "      <td>...</td>\n",
       "      <td>0.08771</td>\n",
       "      <td>0.01353</td>\n",
       "      <td>20.644</td>\n",
       "      <td>1</td>\n",
       "      <td>0.434969</td>\n",
       "      <td>0.819235</td>\n",
       "      <td>-4.117501</td>\n",
       "      <td>0.334147</td>\n",
       "      <td>2.405554</td>\n",
       "      <td>0.368975</td>\n",
       "    </tr>\n",
       "    <tr>\n",
       "      <th>4</th>\n",
       "      <td>phon_R01_S01_5</td>\n",
       "      <td>116.014</td>\n",
       "      <td>141.781</td>\n",
       "      <td>110.655</td>\n",
       "      <td>0.01284</td>\n",
       "      <td>0.00011</td>\n",
       "      <td>0.00655</td>\n",
       "      <td>0.00908</td>\n",
       "      <td>0.01966</td>\n",
       "      <td>0.06425</td>\n",
       "      <td>...</td>\n",
       "      <td>0.10470</td>\n",
       "      <td>0.01767</td>\n",
       "      <td>19.649</td>\n",
       "      <td>1</td>\n",
       "      <td>0.417356</td>\n",
       "      <td>0.823484</td>\n",
       "      <td>-3.747787</td>\n",
       "      <td>0.234513</td>\n",
       "      <td>2.332180</td>\n",
       "      <td>0.410335</td>\n",
       "    </tr>\n",
       "  </tbody>\n",
       "</table>\n",
       "<p>5 rows × 24 columns</p>\n",
       "</div>\n",
       "      <button class=\"colab-df-convert\" onclick=\"convertToInteractive('df-da05e7cc-f55f-43ad-ac81-d32ea5f671cf')\"\n",
       "              title=\"Convert this dataframe to an interactive table.\"\n",
       "              style=\"display:none;\">\n",
       "        \n",
       "  <svg xmlns=\"http://www.w3.org/2000/svg\" height=\"24px\"viewBox=\"0 0 24 24\"\n",
       "       width=\"24px\">\n",
       "    <path d=\"M0 0h24v24H0V0z\" fill=\"none\"/>\n",
       "    <path d=\"M18.56 5.44l.94 2.06.94-2.06 2.06-.94-2.06-.94-.94-2.06-.94 2.06-2.06.94zm-11 1L8.5 8.5l.94-2.06 2.06-.94-2.06-.94L8.5 2.5l-.94 2.06-2.06.94zm10 10l.94 2.06.94-2.06 2.06-.94-2.06-.94-.94-2.06-.94 2.06-2.06.94z\"/><path d=\"M17.41 7.96l-1.37-1.37c-.4-.4-.92-.59-1.43-.59-.52 0-1.04.2-1.43.59L10.3 9.45l-7.72 7.72c-.78.78-.78 2.05 0 2.83L4 21.41c.39.39.9.59 1.41.59.51 0 1.02-.2 1.41-.59l7.78-7.78 2.81-2.81c.8-.78.8-2.07 0-2.86zM5.41 20L4 18.59l7.72-7.72 1.47 1.35L5.41 20z\"/>\n",
       "  </svg>\n",
       "      </button>\n",
       "      \n",
       "  <style>\n",
       "    .colab-df-container {\n",
       "      display:flex;\n",
       "      flex-wrap:wrap;\n",
       "      gap: 12px;\n",
       "    }\n",
       "\n",
       "    .colab-df-convert {\n",
       "      background-color: #E8F0FE;\n",
       "      border: none;\n",
       "      border-radius: 50%;\n",
       "      cursor: pointer;\n",
       "      display: none;\n",
       "      fill: #1967D2;\n",
       "      height: 32px;\n",
       "      padding: 0 0 0 0;\n",
       "      width: 32px;\n",
       "    }\n",
       "\n",
       "    .colab-df-convert:hover {\n",
       "      background-color: #E2EBFA;\n",
       "      box-shadow: 0px 1px 2px rgba(60, 64, 67, 0.3), 0px 1px 3px 1px rgba(60, 64, 67, 0.15);\n",
       "      fill: #174EA6;\n",
       "    }\n",
       "\n",
       "    [theme=dark] .colab-df-convert {\n",
       "      background-color: #3B4455;\n",
       "      fill: #D2E3FC;\n",
       "    }\n",
       "\n",
       "    [theme=dark] .colab-df-convert:hover {\n",
       "      background-color: #434B5C;\n",
       "      box-shadow: 0px 1px 3px 1px rgba(0, 0, 0, 0.15);\n",
       "      filter: drop-shadow(0px 1px 2px rgba(0, 0, 0, 0.3));\n",
       "      fill: #FFFFFF;\n",
       "    }\n",
       "  </style>\n",
       "\n",
       "      <script>\n",
       "        const buttonEl =\n",
       "          document.querySelector('#df-da05e7cc-f55f-43ad-ac81-d32ea5f671cf button.colab-df-convert');\n",
       "        buttonEl.style.display =\n",
       "          google.colab.kernel.accessAllowed ? 'block' : 'none';\n",
       "\n",
       "        async function convertToInteractive(key) {\n",
       "          const element = document.querySelector('#df-da05e7cc-f55f-43ad-ac81-d32ea5f671cf');\n",
       "          const dataTable =\n",
       "            await google.colab.kernel.invokeFunction('convertToInteractive',\n",
       "                                                     [key], {});\n",
       "          if (!dataTable) return;\n",
       "\n",
       "          const docLinkHtml = 'Like what you see? Visit the ' +\n",
       "            '<a target=\"_blank\" href=https://colab.research.google.com/notebooks/data_table.ipynb>data table notebook</a>'\n",
       "            + ' to learn more about interactive tables.';\n",
       "          element.innerHTML = '';\n",
       "          dataTable['output_type'] = 'display_data';\n",
       "          await google.colab.output.renderOutput(dataTable, element);\n",
       "          const docLink = document.createElement('div');\n",
       "          docLink.innerHTML = docLinkHtml;\n",
       "          element.appendChild(docLink);\n",
       "        }\n",
       "      </script>\n",
       "    </div>\n",
       "  </div>\n",
       "  "
      ],
      "text/plain": [
       "             name  MDVP:Fo(Hz)  MDVP:Fhi(Hz)  MDVP:Flo(Hz)  MDVP:Jitter(%)  \\\n",
       "0  phon_R01_S01_1      119.992       157.302        74.997         0.00784   \n",
       "1  phon_R01_S01_2      122.400       148.650       113.819         0.00968   \n",
       "2  phon_R01_S01_3      116.682       131.111       111.555         0.01050   \n",
       "3  phon_R01_S01_4      116.676       137.871       111.366         0.00997   \n",
       "4  phon_R01_S01_5      116.014       141.781       110.655         0.01284   \n",
       "\n",
       "   MDVP:Jitter(Abs)  MDVP:RAP  MDVP:PPQ  Jitter:DDP  MDVP:Shimmer  ...  \\\n",
       "0           0.00007   0.00370   0.00554     0.01109       0.04374  ...   \n",
       "1           0.00008   0.00465   0.00696     0.01394       0.06134  ...   \n",
       "2           0.00009   0.00544   0.00781     0.01633       0.05233  ...   \n",
       "3           0.00009   0.00502   0.00698     0.01505       0.05492  ...   \n",
       "4           0.00011   0.00655   0.00908     0.01966       0.06425  ...   \n",
       "\n",
       "   Shimmer:DDA      NHR     HNR  status      RPDE       DFA   spread1  \\\n",
       "0      0.06545  0.02211  21.033       1  0.414783  0.815285 -4.813031   \n",
       "1      0.09403  0.01929  19.085       1  0.458359  0.819521 -4.075192   \n",
       "2      0.08270  0.01309  20.651       1  0.429895  0.825288 -4.443179   \n",
       "3      0.08771  0.01353  20.644       1  0.434969  0.819235 -4.117501   \n",
       "4      0.10470  0.01767  19.649       1  0.417356  0.823484 -3.747787   \n",
       "\n",
       "    spread2        D2       PPE  \n",
       "0  0.266482  2.301442  0.284654  \n",
       "1  0.335590  2.486855  0.368674  \n",
       "2  0.311173  2.342259  0.332634  \n",
       "3  0.334147  2.405554  0.368975  \n",
       "4  0.234513  2.332180  0.410335  \n",
       "\n",
       "[5 rows x 24 columns]"
      ]
     },
     "execution_count": 2,
     "metadata": {},
     "output_type": "execute_result"
    }
   ],
   "source": [
    "pdDataOrg = pd.read_csv(\"Parkinsson disease.csv\")\n",
    "pdDataOrg.head()"
   ]
  },
  {
   "cell_type": "code",
   "execution_count": null,
   "metadata": {
    "colab": {
     "base_uri": "https://localhost:8080/",
     "height": 299
    },
    "id": "5M-v8nVBvnqE",
    "outputId": "4cc4a2e8-d67d-41eb-9905-d6f5891402e3"
   },
   "outputs": [
    {
     "data": {
      "text/html": [
       "\n",
       "  <div id=\"df-c6441330-befc-4e55-8f7b-ac06503bffc8\">\n",
       "    <div class=\"colab-df-container\">\n",
       "      <div>\n",
       "<style scoped>\n",
       "    .dataframe tbody tr th:only-of-type {\n",
       "        vertical-align: middle;\n",
       "    }\n",
       "\n",
       "    .dataframe tbody tr th {\n",
       "        vertical-align: top;\n",
       "    }\n",
       "\n",
       "    .dataframe thead th {\n",
       "        text-align: right;\n",
       "    }\n",
       "</style>\n",
       "<table border=\"1\" class=\"dataframe\">\n",
       "  <thead>\n",
       "    <tr style=\"text-align: right;\">\n",
       "      <th></th>\n",
       "      <th>name</th>\n",
       "      <th>mdvp_fo_hz</th>\n",
       "      <th>mdvp_fhi_hz</th>\n",
       "      <th>mdvp_flo_hz</th>\n",
       "      <th>mdvp_jitter_in_percent</th>\n",
       "      <th>mdvp_jitter_abs</th>\n",
       "      <th>mdvp_rap</th>\n",
       "      <th>mdvp_ppq</th>\n",
       "      <th>jitter_ddp</th>\n",
       "      <th>mdvp_shimmer</th>\n",
       "      <th>...</th>\n",
       "      <th>shimmer_dda</th>\n",
       "      <th>nhr</th>\n",
       "      <th>hnr</th>\n",
       "      <th>rpde</th>\n",
       "      <th>dfa</th>\n",
       "      <th>spread1</th>\n",
       "      <th>spread2</th>\n",
       "      <th>d2</th>\n",
       "      <th>ppe</th>\n",
       "      <th>status</th>\n",
       "    </tr>\n",
       "  </thead>\n",
       "  <tbody>\n",
       "    <tr>\n",
       "      <th>0</th>\n",
       "      <td>phon_R01_S01_1</td>\n",
       "      <td>119.992</td>\n",
       "      <td>157.302</td>\n",
       "      <td>74.997</td>\n",
       "      <td>0.00784</td>\n",
       "      <td>0.00007</td>\n",
       "      <td>0.00370</td>\n",
       "      <td>0.00554</td>\n",
       "      <td>0.01109</td>\n",
       "      <td>0.04374</td>\n",
       "      <td>...</td>\n",
       "      <td>0.06545</td>\n",
       "      <td>0.02211</td>\n",
       "      <td>21.033</td>\n",
       "      <td>0.414783</td>\n",
       "      <td>0.815285</td>\n",
       "      <td>-4.813031</td>\n",
       "      <td>0.266482</td>\n",
       "      <td>2.301442</td>\n",
       "      <td>0.284654</td>\n",
       "      <td>1</td>\n",
       "    </tr>\n",
       "    <tr>\n",
       "      <th>1</th>\n",
       "      <td>phon_R01_S01_2</td>\n",
       "      <td>122.400</td>\n",
       "      <td>148.650</td>\n",
       "      <td>113.819</td>\n",
       "      <td>0.00968</td>\n",
       "      <td>0.00008</td>\n",
       "      <td>0.00465</td>\n",
       "      <td>0.00696</td>\n",
       "      <td>0.01394</td>\n",
       "      <td>0.06134</td>\n",
       "      <td>...</td>\n",
       "      <td>0.09403</td>\n",
       "      <td>0.01929</td>\n",
       "      <td>19.085</td>\n",
       "      <td>0.458359</td>\n",
       "      <td>0.819521</td>\n",
       "      <td>-4.075192</td>\n",
       "      <td>0.335590</td>\n",
       "      <td>2.486855</td>\n",
       "      <td>0.368674</td>\n",
       "      <td>1</td>\n",
       "    </tr>\n",
       "    <tr>\n",
       "      <th>2</th>\n",
       "      <td>phon_R01_S01_3</td>\n",
       "      <td>116.682</td>\n",
       "      <td>131.111</td>\n",
       "      <td>111.555</td>\n",
       "      <td>0.01050</td>\n",
       "      <td>0.00009</td>\n",
       "      <td>0.00544</td>\n",
       "      <td>0.00781</td>\n",
       "      <td>0.01633</td>\n",
       "      <td>0.05233</td>\n",
       "      <td>...</td>\n",
       "      <td>0.08270</td>\n",
       "      <td>0.01309</td>\n",
       "      <td>20.651</td>\n",
       "      <td>0.429895</td>\n",
       "      <td>0.825288</td>\n",
       "      <td>-4.443179</td>\n",
       "      <td>0.311173</td>\n",
       "      <td>2.342259</td>\n",
       "      <td>0.332634</td>\n",
       "      <td>1</td>\n",
       "    </tr>\n",
       "    <tr>\n",
       "      <th>3</th>\n",
       "      <td>phon_R01_S01_4</td>\n",
       "      <td>116.676</td>\n",
       "      <td>137.871</td>\n",
       "      <td>111.366</td>\n",
       "      <td>0.00997</td>\n",
       "      <td>0.00009</td>\n",
       "      <td>0.00502</td>\n",
       "      <td>0.00698</td>\n",
       "      <td>0.01505</td>\n",
       "      <td>0.05492</td>\n",
       "      <td>...</td>\n",
       "      <td>0.08771</td>\n",
       "      <td>0.01353</td>\n",
       "      <td>20.644</td>\n",
       "      <td>0.434969</td>\n",
       "      <td>0.819235</td>\n",
       "      <td>-4.117501</td>\n",
       "      <td>0.334147</td>\n",
       "      <td>2.405554</td>\n",
       "      <td>0.368975</td>\n",
       "      <td>1</td>\n",
       "    </tr>\n",
       "    <tr>\n",
       "      <th>4</th>\n",
       "      <td>phon_R01_S01_5</td>\n",
       "      <td>116.014</td>\n",
       "      <td>141.781</td>\n",
       "      <td>110.655</td>\n",
       "      <td>0.01284</td>\n",
       "      <td>0.00011</td>\n",
       "      <td>0.00655</td>\n",
       "      <td>0.00908</td>\n",
       "      <td>0.01966</td>\n",
       "      <td>0.06425</td>\n",
       "      <td>...</td>\n",
       "      <td>0.10470</td>\n",
       "      <td>0.01767</td>\n",
       "      <td>19.649</td>\n",
       "      <td>0.417356</td>\n",
       "      <td>0.823484</td>\n",
       "      <td>-3.747787</td>\n",
       "      <td>0.234513</td>\n",
       "      <td>2.332180</td>\n",
       "      <td>0.410335</td>\n",
       "      <td>1</td>\n",
       "    </tr>\n",
       "  </tbody>\n",
       "</table>\n",
       "<p>5 rows × 24 columns</p>\n",
       "</div>\n",
       "      <button class=\"colab-df-convert\" onclick=\"convertToInteractive('df-c6441330-befc-4e55-8f7b-ac06503bffc8')\"\n",
       "              title=\"Convert this dataframe to an interactive table.\"\n",
       "              style=\"display:none;\">\n",
       "        \n",
       "  <svg xmlns=\"http://www.w3.org/2000/svg\" height=\"24px\"viewBox=\"0 0 24 24\"\n",
       "       width=\"24px\">\n",
       "    <path d=\"M0 0h24v24H0V0z\" fill=\"none\"/>\n",
       "    <path d=\"M18.56 5.44l.94 2.06.94-2.06 2.06-.94-2.06-.94-.94-2.06-.94 2.06-2.06.94zm-11 1L8.5 8.5l.94-2.06 2.06-.94-2.06-.94L8.5 2.5l-.94 2.06-2.06.94zm10 10l.94 2.06.94-2.06 2.06-.94-2.06-.94-.94-2.06-.94 2.06-2.06.94z\"/><path d=\"M17.41 7.96l-1.37-1.37c-.4-.4-.92-.59-1.43-.59-.52 0-1.04.2-1.43.59L10.3 9.45l-7.72 7.72c-.78.78-.78 2.05 0 2.83L4 21.41c.39.39.9.59 1.41.59.51 0 1.02-.2 1.41-.59l7.78-7.78 2.81-2.81c.8-.78.8-2.07 0-2.86zM5.41 20L4 18.59l7.72-7.72 1.47 1.35L5.41 20z\"/>\n",
       "  </svg>\n",
       "      </button>\n",
       "      \n",
       "  <style>\n",
       "    .colab-df-container {\n",
       "      display:flex;\n",
       "      flex-wrap:wrap;\n",
       "      gap: 12px;\n",
       "    }\n",
       "\n",
       "    .colab-df-convert {\n",
       "      background-color: #E8F0FE;\n",
       "      border: none;\n",
       "      border-radius: 50%;\n",
       "      cursor: pointer;\n",
       "      display: none;\n",
       "      fill: #1967D2;\n",
       "      height: 32px;\n",
       "      padding: 0 0 0 0;\n",
       "      width: 32px;\n",
       "    }\n",
       "\n",
       "    .colab-df-convert:hover {\n",
       "      background-color: #E2EBFA;\n",
       "      box-shadow: 0px 1px 2px rgba(60, 64, 67, 0.3), 0px 1px 3px 1px rgba(60, 64, 67, 0.15);\n",
       "      fill: #174EA6;\n",
       "    }\n",
       "\n",
       "    [theme=dark] .colab-df-convert {\n",
       "      background-color: #3B4455;\n",
       "      fill: #D2E3FC;\n",
       "    }\n",
       "\n",
       "    [theme=dark] .colab-df-convert:hover {\n",
       "      background-color: #434B5C;\n",
       "      box-shadow: 0px 1px 3px 1px rgba(0, 0, 0, 0.15);\n",
       "      filter: drop-shadow(0px 1px 2px rgba(0, 0, 0, 0.3));\n",
       "      fill: #FFFFFF;\n",
       "    }\n",
       "  </style>\n",
       "\n",
       "      <script>\n",
       "        const buttonEl =\n",
       "          document.querySelector('#df-c6441330-befc-4e55-8f7b-ac06503bffc8 button.colab-df-convert');\n",
       "        buttonEl.style.display =\n",
       "          google.colab.kernel.accessAllowed ? 'block' : 'none';\n",
       "\n",
       "        async function convertToInteractive(key) {\n",
       "          const element = document.querySelector('#df-c6441330-befc-4e55-8f7b-ac06503bffc8');\n",
       "          const dataTable =\n",
       "            await google.colab.kernel.invokeFunction('convertToInteractive',\n",
       "                                                     [key], {});\n",
       "          if (!dataTable) return;\n",
       "\n",
       "          const docLinkHtml = 'Like what you see? Visit the ' +\n",
       "            '<a target=\"_blank\" href=https://colab.research.google.com/notebooks/data_table.ipynb>data table notebook</a>'\n",
       "            + ' to learn more about interactive tables.';\n",
       "          element.innerHTML = '';\n",
       "          dataTable['output_type'] = 'display_data';\n",
       "          await google.colab.output.renderOutput(dataTable, element);\n",
       "          const docLink = document.createElement('div');\n",
       "          docLink.innerHTML = docLinkHtml;\n",
       "          element.appendChild(docLink);\n",
       "        }\n",
       "      </script>\n",
       "    </div>\n",
       "  </div>\n",
       "  "
      ],
      "text/plain": [
       "             name  mdvp_fo_hz  mdvp_fhi_hz  mdvp_flo_hz  \\\n",
       "0  phon_R01_S01_1     119.992      157.302       74.997   \n",
       "1  phon_R01_S01_2     122.400      148.650      113.819   \n",
       "2  phon_R01_S01_3     116.682      131.111      111.555   \n",
       "3  phon_R01_S01_4     116.676      137.871      111.366   \n",
       "4  phon_R01_S01_5     116.014      141.781      110.655   \n",
       "\n",
       "   mdvp_jitter_in_percent  mdvp_jitter_abs  mdvp_rap  mdvp_ppq  jitter_ddp  \\\n",
       "0                 0.00784          0.00007   0.00370   0.00554     0.01109   \n",
       "1                 0.00968          0.00008   0.00465   0.00696     0.01394   \n",
       "2                 0.01050          0.00009   0.00544   0.00781     0.01633   \n",
       "3                 0.00997          0.00009   0.00502   0.00698     0.01505   \n",
       "4                 0.01284          0.00011   0.00655   0.00908     0.01966   \n",
       "\n",
       "   mdvp_shimmer  ...  shimmer_dda      nhr     hnr      rpde       dfa  \\\n",
       "0       0.04374  ...      0.06545  0.02211  21.033  0.414783  0.815285   \n",
       "1       0.06134  ...      0.09403  0.01929  19.085  0.458359  0.819521   \n",
       "2       0.05233  ...      0.08270  0.01309  20.651  0.429895  0.825288   \n",
       "3       0.05492  ...      0.08771  0.01353  20.644  0.434969  0.819235   \n",
       "4       0.06425  ...      0.10470  0.01767  19.649  0.417356  0.823484   \n",
       "\n",
       "    spread1   spread2        d2       ppe  status  \n",
       "0 -4.813031  0.266482  2.301442  0.284654       1  \n",
       "1 -4.075192  0.335590  2.486855  0.368674       1  \n",
       "2 -4.443179  0.311173  2.342259  0.332634       1  \n",
       "3 -4.117501  0.334147  2.405554  0.368975       1  \n",
       "4 -3.747787  0.234513  2.332180  0.410335       1  \n",
       "\n",
       "[5 rows x 24 columns]"
      ]
     },
     "execution_count": 3,
     "metadata": {},
     "output_type": "execute_result"
    }
   ],
   "source": [
    "pdData = pdDataOrg.copy()                                               \n",
    "\n",
    "targetCol = 'status'                                                    \n",
    "targetColDf = pdData.pop(targetCol)                                     \n",
    "pdData.insert(len(pdData.columns),targetCol, targetColDf)               \n",
    "\n",
    "# deleting variables that were used for changing column position of target column\n",
    "del targetCol \n",
    "del targetColDf\n",
    "\n",
    "# converting column names into lower case\n",
    "pdData.columns = [c.lower() for c in pdData.columns]\n",
    "# replacing spaces in column names with '_'\n",
    "pdData.columns = [c.replace(' ', '_') for c in pdData.columns]\n",
    "# replacing ':' in column names with '_'\n",
    "pdData.columns = [c.replace(':', '_') for c in pdData.columns]\n",
    "# replacing '(' in column names with '_'\n",
    "pdData.columns = [c.replace('(', '_') for c in pdData.columns]\n",
    "# replacing ')' in column names with '' i.e blank\n",
    "pdData.columns = [c.replace(')', '') for c in pdData.columns]\n",
    "# replacing '%' in column names with 'in_percent'\n",
    "pdData.columns = [c.replace('%', 'in_percent') for c in pdData.columns]\n",
    "\n",
    "# to check the above printing top 5 rows\n",
    "pdData.head()"
   ]
  },
  {
   "cell_type": "code",
   "execution_count": null,
   "metadata": {
    "colab": {
     "base_uri": "https://localhost:8080/"
    },
    "id": "DBU-PRhpv0RD",
    "outputId": "87789957-3b6b-48de-e5bd-09471090f5e3"
   },
   "outputs": [
    {
     "name": "stdout",
     "output_type": "stream",
     "text": [
      "\u001b[1mThe Parkinson's disease dataset having \"195\" rows and \"24\" columns\u001b[0m.\n"
     ]
    }
   ],
   "source": [
    "print('\\033[1mThe Parkinson\\'s disease dataset having \"{0}\" rows and \"{1}\" columns\\033[0m.'.format(pdData.shape[0],pdData.shape[1]))"
   ]
  },
  {
   "cell_type": "code",
   "execution_count": null,
   "metadata": {
    "colab": {
     "base_uri": "https://localhost:8080/"
    },
    "id": "51BCF2uWv3TR",
    "outputId": "7cd15231-958a-4dd9-d775-7cf2596f2bd5"
   },
   "outputs": [
    {
     "name": "stdout",
     "output_type": "stream",
     "text": [
      "<class 'pandas.core.frame.DataFrame'>\n",
      "RangeIndex: 195 entries, 0 to 194\n",
      "Data columns (total 24 columns):\n",
      " #   Column                  Non-Null Count  Dtype  \n",
      "---  ------                  --------------  -----  \n",
      " 0   name                    195 non-null    object \n",
      " 1   mdvp_fo_hz              195 non-null    float64\n",
      " 2   mdvp_fhi_hz             195 non-null    float64\n",
      " 3   mdvp_flo_hz             195 non-null    float64\n",
      " 4   mdvp_jitter_in_percent  195 non-null    float64\n",
      " 5   mdvp_jitter_abs         195 non-null    float64\n",
      " 6   mdvp_rap                195 non-null    float64\n",
      " 7   mdvp_ppq                195 non-null    float64\n",
      " 8   jitter_ddp              195 non-null    float64\n",
      " 9   mdvp_shimmer            195 non-null    float64\n",
      " 10  mdvp_shimmer_db         195 non-null    float64\n",
      " 11  shimmer_apq3            195 non-null    float64\n",
      " 12  shimmer_apq5            195 non-null    float64\n",
      " 13  mdvp_apq                195 non-null    float64\n",
      " 14  shimmer_dda             195 non-null    float64\n",
      " 15  nhr                     195 non-null    float64\n",
      " 16  hnr                     195 non-null    float64\n",
      " 17  rpde                    195 non-null    float64\n",
      " 18  dfa                     195 non-null    float64\n",
      " 19  spread1                 195 non-null    float64\n",
      " 20  spread2                 195 non-null    float64\n",
      " 21  d2                      195 non-null    float64\n",
      " 22  ppe                     195 non-null    float64\n",
      " 23  status                  195 non-null    int64  \n",
      "dtypes: float64(22), int64(1), object(1)\n",
      "memory usage: 36.7+ KB\n"
     ]
    }
   ],
   "source": [
    "pdData.info()"
   ]
  },
  {
   "cell_type": "code",
   "execution_count": null,
   "metadata": {
    "id": "3KBLh6Kav5dh"
   },
   "outputs": [],
   "source": [
    "# setting name column as index column\n",
    "pdData.set_index('name',inplace=True)"
   ]
  },
  {
   "cell_type": "code",
   "execution_count": null,
   "metadata": {
    "colab": {
     "base_uri": "https://localhost:8080/"
    },
    "id": "h5eMdY_Ev8YD",
    "outputId": "65bd58c1-4386-4532-f6eb-e5fb9bc60074"
   },
   "outputs": [
    {
     "name": "stdout",
     "output_type": "stream",
     "text": [
      "\u001b[1mAfter setting 'name' column as index of the Dataset,\u001b[0m now there are \u001b[1m\"195\"\u001b[0m Rows and \u001b[1m\"23\"\u001b[0m Columns in the given Dataset.\n"
     ]
    }
   ],
   "source": [
    "# after setting column 'name' as index now we have less columns to confirm that printing number of rows and column once again\n",
    "print('\\033[1mAfter setting \\'name\\' column as index of the Dataset,\\033[0m now there are \\033[1m\"{0}\"\\033[0m Rows and \\033[1m\"{1}\"\\033[0m Columns in the given Dataset.'.format(pdData.shape[0],pdData.shape[1]))"
   ]
  },
  {
   "cell_type": "code",
   "execution_count": null,
   "metadata": {
    "colab": {
     "base_uri": "https://localhost:8080/",
     "height": 331
    },
    "id": "Tpzh5SSNv_Aj",
    "outputId": "7f0802df-ffff-4a14-8d3a-651ed9c94de7"
   },
   "outputs": [
    {
     "data": {
      "text/html": [
       "\n",
       "  <div id=\"df-2e56d839-f20e-42a5-a5c3-ca630a231608\">\n",
       "    <div class=\"colab-df-container\">\n",
       "      <div>\n",
       "<style scoped>\n",
       "    .dataframe tbody tr th:only-of-type {\n",
       "        vertical-align: middle;\n",
       "    }\n",
       "\n",
       "    .dataframe tbody tr th {\n",
       "        vertical-align: top;\n",
       "    }\n",
       "\n",
       "    .dataframe thead th {\n",
       "        text-align: right;\n",
       "    }\n",
       "</style>\n",
       "<table border=\"1\" class=\"dataframe\">\n",
       "  <thead>\n",
       "    <tr style=\"text-align: right;\">\n",
       "      <th></th>\n",
       "      <th>mdvp_fo_hz</th>\n",
       "      <th>mdvp_fhi_hz</th>\n",
       "      <th>mdvp_flo_hz</th>\n",
       "      <th>mdvp_jitter_in_percent</th>\n",
       "      <th>mdvp_jitter_abs</th>\n",
       "      <th>mdvp_rap</th>\n",
       "      <th>mdvp_ppq</th>\n",
       "      <th>jitter_ddp</th>\n",
       "      <th>mdvp_shimmer</th>\n",
       "      <th>mdvp_shimmer_db</th>\n",
       "      <th>...</th>\n",
       "      <th>shimmer_dda</th>\n",
       "      <th>nhr</th>\n",
       "      <th>hnr</th>\n",
       "      <th>rpde</th>\n",
       "      <th>dfa</th>\n",
       "      <th>spread1</th>\n",
       "      <th>spread2</th>\n",
       "      <th>d2</th>\n",
       "      <th>ppe</th>\n",
       "      <th>status</th>\n",
       "    </tr>\n",
       "    <tr>\n",
       "      <th>name</th>\n",
       "      <th></th>\n",
       "      <th></th>\n",
       "      <th></th>\n",
       "      <th></th>\n",
       "      <th></th>\n",
       "      <th></th>\n",
       "      <th></th>\n",
       "      <th></th>\n",
       "      <th></th>\n",
       "      <th></th>\n",
       "      <th></th>\n",
       "      <th></th>\n",
       "      <th></th>\n",
       "      <th></th>\n",
       "      <th></th>\n",
       "      <th></th>\n",
       "      <th></th>\n",
       "      <th></th>\n",
       "      <th></th>\n",
       "      <th></th>\n",
       "      <th></th>\n",
       "    </tr>\n",
       "  </thead>\n",
       "  <tbody>\n",
       "    <tr>\n",
       "      <th>phon_R01_S01_1</th>\n",
       "      <td>119.992</td>\n",
       "      <td>157.302</td>\n",
       "      <td>74.997</td>\n",
       "      <td>0.00784</td>\n",
       "      <td>0.00007</td>\n",
       "      <td>0.00370</td>\n",
       "      <td>0.00554</td>\n",
       "      <td>0.01109</td>\n",
       "      <td>0.04374</td>\n",
       "      <td>0.426</td>\n",
       "      <td>...</td>\n",
       "      <td>0.06545</td>\n",
       "      <td>0.02211</td>\n",
       "      <td>21.033</td>\n",
       "      <td>0.414783</td>\n",
       "      <td>0.815285</td>\n",
       "      <td>-4.813031</td>\n",
       "      <td>0.266482</td>\n",
       "      <td>2.301442</td>\n",
       "      <td>0.284654</td>\n",
       "      <td>1</td>\n",
       "    </tr>\n",
       "    <tr>\n",
       "      <th>phon_R01_S01_2</th>\n",
       "      <td>122.400</td>\n",
       "      <td>148.650</td>\n",
       "      <td>113.819</td>\n",
       "      <td>0.00968</td>\n",
       "      <td>0.00008</td>\n",
       "      <td>0.00465</td>\n",
       "      <td>0.00696</td>\n",
       "      <td>0.01394</td>\n",
       "      <td>0.06134</td>\n",
       "      <td>0.626</td>\n",
       "      <td>...</td>\n",
       "      <td>0.09403</td>\n",
       "      <td>0.01929</td>\n",
       "      <td>19.085</td>\n",
       "      <td>0.458359</td>\n",
       "      <td>0.819521</td>\n",
       "      <td>-4.075192</td>\n",
       "      <td>0.335590</td>\n",
       "      <td>2.486855</td>\n",
       "      <td>0.368674</td>\n",
       "      <td>1</td>\n",
       "    </tr>\n",
       "    <tr>\n",
       "      <th>phon_R01_S01_3</th>\n",
       "      <td>116.682</td>\n",
       "      <td>131.111</td>\n",
       "      <td>111.555</td>\n",
       "      <td>0.01050</td>\n",
       "      <td>0.00009</td>\n",
       "      <td>0.00544</td>\n",
       "      <td>0.00781</td>\n",
       "      <td>0.01633</td>\n",
       "      <td>0.05233</td>\n",
       "      <td>0.482</td>\n",
       "      <td>...</td>\n",
       "      <td>0.08270</td>\n",
       "      <td>0.01309</td>\n",
       "      <td>20.651</td>\n",
       "      <td>0.429895</td>\n",
       "      <td>0.825288</td>\n",
       "      <td>-4.443179</td>\n",
       "      <td>0.311173</td>\n",
       "      <td>2.342259</td>\n",
       "      <td>0.332634</td>\n",
       "      <td>1</td>\n",
       "    </tr>\n",
       "    <tr>\n",
       "      <th>phon_R01_S01_4</th>\n",
       "      <td>116.676</td>\n",
       "      <td>137.871</td>\n",
       "      <td>111.366</td>\n",
       "      <td>0.00997</td>\n",
       "      <td>0.00009</td>\n",
       "      <td>0.00502</td>\n",
       "      <td>0.00698</td>\n",
       "      <td>0.01505</td>\n",
       "      <td>0.05492</td>\n",
       "      <td>0.517</td>\n",
       "      <td>...</td>\n",
       "      <td>0.08771</td>\n",
       "      <td>0.01353</td>\n",
       "      <td>20.644</td>\n",
       "      <td>0.434969</td>\n",
       "      <td>0.819235</td>\n",
       "      <td>-4.117501</td>\n",
       "      <td>0.334147</td>\n",
       "      <td>2.405554</td>\n",
       "      <td>0.368975</td>\n",
       "      <td>1</td>\n",
       "    </tr>\n",
       "    <tr>\n",
       "      <th>phon_R01_S01_5</th>\n",
       "      <td>116.014</td>\n",
       "      <td>141.781</td>\n",
       "      <td>110.655</td>\n",
       "      <td>0.01284</td>\n",
       "      <td>0.00011</td>\n",
       "      <td>0.00655</td>\n",
       "      <td>0.00908</td>\n",
       "      <td>0.01966</td>\n",
       "      <td>0.06425</td>\n",
       "      <td>0.584</td>\n",
       "      <td>...</td>\n",
       "      <td>0.10470</td>\n",
       "      <td>0.01767</td>\n",
       "      <td>19.649</td>\n",
       "      <td>0.417356</td>\n",
       "      <td>0.823484</td>\n",
       "      <td>-3.747787</td>\n",
       "      <td>0.234513</td>\n",
       "      <td>2.332180</td>\n",
       "      <td>0.410335</td>\n",
       "      <td>1</td>\n",
       "    </tr>\n",
       "  </tbody>\n",
       "</table>\n",
       "<p>5 rows × 23 columns</p>\n",
       "</div>\n",
       "      <button class=\"colab-df-convert\" onclick=\"convertToInteractive('df-2e56d839-f20e-42a5-a5c3-ca630a231608')\"\n",
       "              title=\"Convert this dataframe to an interactive table.\"\n",
       "              style=\"display:none;\">\n",
       "        \n",
       "  <svg xmlns=\"http://www.w3.org/2000/svg\" height=\"24px\"viewBox=\"0 0 24 24\"\n",
       "       width=\"24px\">\n",
       "    <path d=\"M0 0h24v24H0V0z\" fill=\"none\"/>\n",
       "    <path d=\"M18.56 5.44l.94 2.06.94-2.06 2.06-.94-2.06-.94-.94-2.06-.94 2.06-2.06.94zm-11 1L8.5 8.5l.94-2.06 2.06-.94-2.06-.94L8.5 2.5l-.94 2.06-2.06.94zm10 10l.94 2.06.94-2.06 2.06-.94-2.06-.94-.94-2.06-.94 2.06-2.06.94z\"/><path d=\"M17.41 7.96l-1.37-1.37c-.4-.4-.92-.59-1.43-.59-.52 0-1.04.2-1.43.59L10.3 9.45l-7.72 7.72c-.78.78-.78 2.05 0 2.83L4 21.41c.39.39.9.59 1.41.59.51 0 1.02-.2 1.41-.59l7.78-7.78 2.81-2.81c.8-.78.8-2.07 0-2.86zM5.41 20L4 18.59l7.72-7.72 1.47 1.35L5.41 20z\"/>\n",
       "  </svg>\n",
       "      </button>\n",
       "      \n",
       "  <style>\n",
       "    .colab-df-container {\n",
       "      display:flex;\n",
       "      flex-wrap:wrap;\n",
       "      gap: 12px;\n",
       "    }\n",
       "\n",
       "    .colab-df-convert {\n",
       "      background-color: #E8F0FE;\n",
       "      border: none;\n",
       "      border-radius: 50%;\n",
       "      cursor: pointer;\n",
       "      display: none;\n",
       "      fill: #1967D2;\n",
       "      height: 32px;\n",
       "      padding: 0 0 0 0;\n",
       "      width: 32px;\n",
       "    }\n",
       "\n",
       "    .colab-df-convert:hover {\n",
       "      background-color: #E2EBFA;\n",
       "      box-shadow: 0px 1px 2px rgba(60, 64, 67, 0.3), 0px 1px 3px 1px rgba(60, 64, 67, 0.15);\n",
       "      fill: #174EA6;\n",
       "    }\n",
       "\n",
       "    [theme=dark] .colab-df-convert {\n",
       "      background-color: #3B4455;\n",
       "      fill: #D2E3FC;\n",
       "    }\n",
       "\n",
       "    [theme=dark] .colab-df-convert:hover {\n",
       "      background-color: #434B5C;\n",
       "      box-shadow: 0px 1px 3px 1px rgba(0, 0, 0, 0.15);\n",
       "      filter: drop-shadow(0px 1px 2px rgba(0, 0, 0, 0.3));\n",
       "      fill: #FFFFFF;\n",
       "    }\n",
       "  </style>\n",
       "\n",
       "      <script>\n",
       "        const buttonEl =\n",
       "          document.querySelector('#df-2e56d839-f20e-42a5-a5c3-ca630a231608 button.colab-df-convert');\n",
       "        buttonEl.style.display =\n",
       "          google.colab.kernel.accessAllowed ? 'block' : 'none';\n",
       "\n",
       "        async function convertToInteractive(key) {\n",
       "          const element = document.querySelector('#df-2e56d839-f20e-42a5-a5c3-ca630a231608');\n",
       "          const dataTable =\n",
       "            await google.colab.kernel.invokeFunction('convertToInteractive',\n",
       "                                                     [key], {});\n",
       "          if (!dataTable) return;\n",
       "\n",
       "          const docLinkHtml = 'Like what you see? Visit the ' +\n",
       "            '<a target=\"_blank\" href=https://colab.research.google.com/notebooks/data_table.ipynb>data table notebook</a>'\n",
       "            + ' to learn more about interactive tables.';\n",
       "          element.innerHTML = '';\n",
       "          dataTable['output_type'] = 'display_data';\n",
       "          await google.colab.output.renderOutput(dataTable, element);\n",
       "          const docLink = document.createElement('div');\n",
       "          docLink.innerHTML = docLinkHtml;\n",
       "          element.appendChild(docLink);\n",
       "        }\n",
       "      </script>\n",
       "    </div>\n",
       "  </div>\n",
       "  "
      ],
      "text/plain": [
       "                mdvp_fo_hz  mdvp_fhi_hz  mdvp_flo_hz  mdvp_jitter_in_percent  \\\n",
       "name                                                                           \n",
       "phon_R01_S01_1     119.992      157.302       74.997                 0.00784   \n",
       "phon_R01_S01_2     122.400      148.650      113.819                 0.00968   \n",
       "phon_R01_S01_3     116.682      131.111      111.555                 0.01050   \n",
       "phon_R01_S01_4     116.676      137.871      111.366                 0.00997   \n",
       "phon_R01_S01_5     116.014      141.781      110.655                 0.01284   \n",
       "\n",
       "                mdvp_jitter_abs  mdvp_rap  mdvp_ppq  jitter_ddp  mdvp_shimmer  \\\n",
       "name                                                                            \n",
       "phon_R01_S01_1          0.00007   0.00370   0.00554     0.01109       0.04374   \n",
       "phon_R01_S01_2          0.00008   0.00465   0.00696     0.01394       0.06134   \n",
       "phon_R01_S01_3          0.00009   0.00544   0.00781     0.01633       0.05233   \n",
       "phon_R01_S01_4          0.00009   0.00502   0.00698     0.01505       0.05492   \n",
       "phon_R01_S01_5          0.00011   0.00655   0.00908     0.01966       0.06425   \n",
       "\n",
       "                mdvp_shimmer_db  ...  shimmer_dda      nhr     hnr      rpde  \\\n",
       "name                             ...                                           \n",
       "phon_R01_S01_1            0.426  ...      0.06545  0.02211  21.033  0.414783   \n",
       "phon_R01_S01_2            0.626  ...      0.09403  0.01929  19.085  0.458359   \n",
       "phon_R01_S01_3            0.482  ...      0.08270  0.01309  20.651  0.429895   \n",
       "phon_R01_S01_4            0.517  ...      0.08771  0.01353  20.644  0.434969   \n",
       "phon_R01_S01_5            0.584  ...      0.10470  0.01767  19.649  0.417356   \n",
       "\n",
       "                     dfa   spread1   spread2        d2       ppe  status  \n",
       "name                                                                      \n",
       "phon_R01_S01_1  0.815285 -4.813031  0.266482  2.301442  0.284654       1  \n",
       "phon_R01_S01_2  0.819521 -4.075192  0.335590  2.486855  0.368674       1  \n",
       "phon_R01_S01_3  0.825288 -4.443179  0.311173  2.342259  0.332634       1  \n",
       "phon_R01_S01_4  0.819235 -4.117501  0.334147  2.405554  0.368975       1  \n",
       "phon_R01_S01_5  0.823484 -3.747787  0.234513  2.332180  0.410335       1  \n",
       "\n",
       "[5 rows x 23 columns]"
      ]
     },
     "execution_count": 8,
     "metadata": {},
     "output_type": "execute_result"
    }
   ],
   "source": [
    "pdData.head()"
   ]
  },
  {
   "cell_type": "code",
   "execution_count": null,
   "metadata": {
    "colab": {
     "base_uri": "https://localhost:8080/"
    },
    "id": "IBP4u8dSwCwm",
    "outputId": "150d6633-e7a8-4be7-e747-446140488fe3"
   },
   "outputs": [
    {
     "name": "stdout",
     "output_type": "stream",
     "text": [
      "\u001b[1m*\u001b[1m*\u001b[1m*\u001b[1m*\u001b[1m*\u001b[1m*\u001b[1m*\u001b[1m*\u001b[1m*\u001b[1m*\u001b[1m*\u001b[1m*\u001b[1m*\u001b[1m*\u001b[1m*\u001b[1m*\u001b[1m*\u001b[1m*\u001b[1m*\u001b[1m*\u001b[1m*\u001b[1m*\u001b[1m*\u001b[1m*\u001b[1m*\u001b[1m*\u001b[1m*\u001b[1m*\u001b[1m*\u001b[1m*\u001b[1m*\u001b[1m*\u001b[1m*\u001b[1m*\u001b[1m*\u001b[1m*\u001b[1m*\u001b[1m*\u001b[1m*\u001b[1m*\u001b[1m*\u001b[1m*\u001b[1m*\u001b[1m*\u001b[1m*\u001b[1m*\u001b[1m*\u001b[1m*\u001b[1m*\u001b[1m*\u001b[1m*\u001b[1m*\u001b[1m*\u001b[1m*\u001b[1m*\u001b[1m*\u001b[1m*\u001b[1m*\u001b[1m*\u001b[1m*\u001b[1m*\u001b[1m*\u001b[1m*\u001b[1m*\u001b[1m*\u001b[1m*\u001b[1m*\u001b[1m*\u001b[1m*\u001b[1m*\u001b[1m*\u001b[1m*\u001b[1m*\u001b[1m*\u001b[1m*\u001b[1m*\u001b[1m*\u001b[1m*\u001b[1m*\u001b[1m*\u001b[1m*\u001b[1m*\u001b[1m*\u001b[1m*\u001b[1m*\u001b[1m*\u001b[1m*\u001b[1m*\u001b[1m*\u001b[1m*\u001b[1m*\u001b[1m*\u001b[1m*\u001b[1m*\u001b[1m*\u001b[1m*\u001b[1m*\u001b[1m*\u001b[1m*\u001b[1m*\n",
      "a.\n",
      "Column_Names        Data_Types\n",
      "******************************\n",
      "\u001b[0mmdvp_fo_hz                float64\n",
      "mdvp_fhi_hz               float64\n",
      "mdvp_flo_hz               float64\n",
      "mdvp_jitter_in_percent    float64\n",
      "mdvp_jitter_abs           float64\n",
      "mdvp_rap                  float64\n",
      "mdvp_ppq                  float64\n",
      "jitter_ddp                float64\n",
      "mdvp_shimmer              float64\n",
      "mdvp_shimmer_db           float64\n",
      "shimmer_apq3              float64\n",
      "shimmer_apq5              float64\n",
      "mdvp_apq                  float64\n",
      "shimmer_dda               float64\n",
      "nhr                       float64\n",
      "hnr                       float64\n",
      "rpde                      float64\n",
      "dfa                       float64\n",
      "spread1                   float64\n",
      "spread2                   float64\n",
      "d2                        float64\n",
      "ppe                       float64\n",
      "status                      int64\n",
      "dtype: object\u001b[1m\n",
      "******************************\n",
      "\n",
      "****************************************************************************************************\n",
      "b.\n",
      "Number of Columns with each DataTypes as follows :\n",
      "**************************************************\n",
      "Column_Names     No_of_Columns\u001b[0m\n",
      "******************************\n",
      "float64    22\n",
      "int64       1\n",
      "dtype: int64\n",
      "\u001b[1m*\u001b[1m*\u001b[1m*\u001b[1m*\u001b[1m*\u001b[1m*\u001b[1m*\u001b[1m*\u001b[1m*\u001b[1m*\u001b[1m*\u001b[1m*\u001b[1m*\u001b[1m*\u001b[1m*\u001b[1m*\u001b[1m*\u001b[1m*\u001b[1m*\u001b[1m*\u001b[1m*\u001b[1m*\u001b[1m*\u001b[1m*\u001b[1m*\u001b[1m*\u001b[1m*\u001b[1m*\u001b[1m*\u001b[1m*\n",
      "\u001b[0m\n",
      "\u001b[1m*\u001b[1m*\u001b[1m*\u001b[1m*\u001b[1m*\u001b[1m*\u001b[1m*\u001b[1m*\u001b[1m*\u001b[1m*\u001b[1m*\u001b[1m*\u001b[1m*\u001b[1m*\u001b[1m*\u001b[1m*\u001b[1m*\u001b[1m*\u001b[1m*\u001b[1m*\u001b[1m*\u001b[1m*\u001b[1m*\u001b[1m*\u001b[1m*\u001b[1m*\u001b[1m*\u001b[1m*\u001b[1m*\u001b[1m*\u001b[1m*\u001b[1m*\u001b[1m*\u001b[1m*\u001b[1m*\u001b[1m*\u001b[1m*\u001b[1m*\u001b[1m*\u001b[1m*\u001b[1m*\u001b[1m*\u001b[1m*\u001b[1m*\u001b[1m*\u001b[1m*\u001b[1m*\u001b[1m*\u001b[1m*\u001b[1m*\u001b[1m*\u001b[1m*\u001b[1m*\u001b[1m*\u001b[1m*\u001b[1m*\u001b[1m*\u001b[1m*\u001b[1m*\u001b[1m*\u001b[1m*\u001b[1m*\u001b[1m*\u001b[1m*\u001b[1m*\u001b[1m*\u001b[1m*\u001b[1m*\u001b[1m*\u001b[1m*\u001b[1m*\u001b[1m*\u001b[1m*\u001b[1m*\u001b[1m*\u001b[1m*\u001b[1m*\u001b[1m*\u001b[1m*\u001b[1m*\u001b[1m*\u001b[1m*\u001b[1m*\u001b[1m*\u001b[1m*\u001b[1m*\u001b[1m*\u001b[1m*\u001b[1m*\u001b[1m*\u001b[1m*\u001b[1m*\u001b[1m*\u001b[1m*\u001b[1m*\u001b[1m*\u001b[1m*\u001b[1m*\u001b[1m*\u001b[1m*\n",
      "c.\n",
      "Each Column Names of the dataset\n",
      "********************************************************************************\n",
      "\u001b[0mIndex(['mdvp_fo_hz', 'mdvp_fhi_hz', 'mdvp_flo_hz', 'mdvp_jitter_in_percent',\n",
      "       'mdvp_jitter_abs', 'mdvp_rap', 'mdvp_ppq', 'jitter_ddp', 'mdvp_shimmer',\n",
      "       'mdvp_shimmer_db', 'shimmer_apq3', 'shimmer_apq5', 'mdvp_apq',\n",
      "       'shimmer_dda', 'nhr', 'hnr', 'rpde', 'dfa', 'spread1', 'spread2', 'd2',\n",
      "       'ppe', 'status'],\n",
      "      dtype='object')\u001b[1m\n",
      "********************************************************************************\n",
      "\u001b[0m\n"
     ]
    }
   ],
   "source": [
    "# printing datatypes of each columns of the dataset\n",
    "\n",
    "print(\"\\033[1m*\"*100)\n",
    "print(\"a.\\nColumn_Names        Data_Types\")\n",
    "print(\"*\"*30)\n",
    "print(\"\\033[0m{0}\\033[1m\".format(pdData.dtypes))\n",
    "print(\"*\"*30)\n",
    "print()\n",
    "\n",
    "# printing No of Columns having different Types of Datatype\n",
    "\n",
    "print(\"*\"*100)\n",
    "print(\"b.\\nNumber of Columns with each DataTypes as follows :\")\n",
    "print(\"*\"*50)\n",
    "print(\"Column_Names     No_of_Columns\\033[0m\")\n",
    "print(\"*\"*30)\n",
    "print(pdData.dtypes.value_counts())\n",
    "print(\"\\033[1m*\"*30)\n",
    "print(\"\\033[0m\")\n",
    "\n",
    "# printing Different Column Names of the dataset\n",
    "\n",
    "print(\"\\033[1m*\"*100)\n",
    "print(\"c.\\nEach Column Names of the dataset\")\n",
    "print(\"*\"*80)\n",
    "print(\"\\033[0m{0}\\033[1m\".format(pdData.columns))\n",
    "print(\"*\"*80)\n",
    "print(\"\\033[0m\")"
   ]
  },
  {
   "cell_type": "markdown",
   "metadata": {
    "id": "YFUxVw_AwRaU"
   },
   "source": [
    "**After observing the dataset and column description given we can conclude the followings:**\n",
    "* **Columns having only two datatypes, int64, float64. (column 'name' was object datatype which was set as index of the dataframe)**\n",
    "* **Column 'status' is only having int64 datatype, remaining all columns datatype is float64.** \n",
    "* **All columns except 'status' are Numeric column.**\n",
    "* **Columns 'status' is Nominal Categorical column with binary response.**"
   ]
  },
  {
   "cell_type": "code",
   "execution_count": null,
   "metadata": {
    "colab": {
     "base_uri": "https://localhost:8080/"
    },
    "id": "F8zZcx-YwSaT",
    "outputId": "26447f66-1591-4cc3-c067-781696d252d6"
   },
   "outputs": [
    {
     "name": "stdout",
     "output_type": "stream",
     "text": [
      "\u001b[1m*\u001b[1m*\u001b[1m*\u001b[1m*\u001b[1m*\u001b[1m*\u001b[1m*\u001b[1m*\u001b[1m*\u001b[1m*\u001b[1m*\u001b[1m*\u001b[1m*\u001b[1m*\u001b[1m*\u001b[1m*\u001b[1m*\u001b[1m*\u001b[1m*\u001b[1m*\u001b[1m*\u001b[1m*\u001b[1m*\u001b[1m*\u001b[1m*\u001b[1m*\u001b[1m*\u001b[1m*\u001b[1m*\u001b[1m*\u001b[1m*\u001b[1m*\u001b[1m*\u001b[1m*\u001b[1m*\u001b[1m*\u001b[1m*\u001b[1m*\u001b[1m*\u001b[1m*\u001b[1m*\u001b[1m*\u001b[1m*\u001b[1m*\u001b[1m*\u001b[1m*\u001b[1m*\u001b[1m*\u001b[1m*\u001b[1m*\u001b[1m*\u001b[1m*\u001b[1m*\u001b[1m*\u001b[1m*\u001b[1m*\u001b[1m*\u001b[1m*\u001b[1m*\u001b[1m*\u001b[1m*\u001b[1m*\u001b[1m*\u001b[1m*\u001b[1m*\u001b[1m*\u001b[1m*\u001b[1m*\u001b[1m*\u001b[1m*\u001b[1m*\u001b[1m*\u001b[1m*\u001b[1m*\u001b[1m*\u001b[1m*\u001b[1m*\u001b[1m*\u001b[1m*\u001b[1m*\u001b[1m*\u001b[1m*\u001b[1m*\u001b[1m*\u001b[1m*\u001b[1m*\u001b[1m*\u001b[1m*\u001b[1m*\u001b[1m*\u001b[1m*\u001b[1m*\u001b[1m*\u001b[1m*\u001b[1m*\u001b[1m*\u001b[1m*\u001b[1m*\u001b[1m*\u001b[1m*\n",
      "Column_Name       No_of_Missing_Values\n",
      "**************************************************\n",
      "\u001b[0mmdvp_fo_hz                0\n",
      "mdvp_fhi_hz               0\n",
      "mdvp_flo_hz               0\n",
      "mdvp_jitter_in_percent    0\n",
      "mdvp_jitter_abs           0\n",
      "mdvp_rap                  0\n",
      "mdvp_ppq                  0\n",
      "jitter_ddp                0\n",
      "mdvp_shimmer              0\n",
      "mdvp_shimmer_db           0\n",
      "shimmer_apq3              0\n",
      "shimmer_apq5              0\n",
      "mdvp_apq                  0\n",
      "shimmer_dda               0\n",
      "nhr                       0\n",
      "hnr                       0\n",
      "rpde                      0\n",
      "dfa                       0\n",
      "spread1                   0\n",
      "spread2                   0\n",
      "d2                        0\n",
      "ppe                       0\n",
      "status                    0\n",
      "dtype: int64\n",
      "\u001b[1m*\u001b[1m*\u001b[1m*\u001b[1m*\u001b[1m*\u001b[1m*\u001b[1m*\u001b[1m*\u001b[1m*\u001b[1m*\u001b[1m*\u001b[1m*\u001b[1m*\u001b[1m*\u001b[1m*\u001b[1m*\u001b[1m*\u001b[1m*\u001b[1m*\u001b[1m*\u001b[1m*\u001b[1m*\u001b[1m*\u001b[1m*\u001b[1m*\u001b[1m*\u001b[1m*\u001b[1m*\u001b[1m*\u001b[1m*\u001b[1m*\u001b[1m*\u001b[1m*\u001b[1m*\u001b[1m*\u001b[1m*\u001b[1m*\u001b[1m*\u001b[1m*\u001b[1m*\u001b[1m*\u001b[1m*\u001b[1m*\u001b[1m*\u001b[1m*\u001b[1m*\u001b[1m*\u001b[1m*\u001b[1m*\u001b[1m*\n",
      "\n",
      "****************************************************************************************************\n",
      "Showing Duplicate rows if any in the dataset: \n",
      "**************************************************\n",
      "\u001b[0mEmpty DataFrame\n",
      "Columns: [mdvp_fo_hz, mdvp_fhi_hz, mdvp_flo_hz, mdvp_jitter_in_percent, mdvp_jitter_abs, mdvp_rap, mdvp_ppq, jitter_ddp, mdvp_shimmer, mdvp_shimmer_db, shimmer_apq3, shimmer_apq5, mdvp_apq, shimmer_dda, nhr, hnr, rpde, dfa, spread1, spread2, d2, ppe, status]\n",
      "Index: []\n",
      "\n",
      "[0 rows x 23 columns]\n",
      "\u001b[1m*\u001b[1m*\u001b[1m*\u001b[1m*\u001b[1m*\u001b[1m*\u001b[1m*\u001b[1m*\u001b[1m*\u001b[1m*\u001b[1m*\u001b[1m*\u001b[1m*\u001b[1m*\u001b[1m*\u001b[1m*\u001b[1m*\u001b[1m*\u001b[1m*\u001b[1m*\u001b[1m*\u001b[1m*\u001b[1m*\u001b[1m*\u001b[1m*\u001b[1m*\u001b[1m*\u001b[1m*\u001b[1m*\u001b[1m*\u001b[1m*\u001b[1m*\u001b[1m*\u001b[1m*\u001b[1m*\u001b[1m*\u001b[1m*\u001b[1m*\u001b[1m*\u001b[1m*\u001b[1m*\u001b[1m*\u001b[1m*\u001b[1m*\u001b[1m*\u001b[1m*\u001b[1m*\u001b[1m*\u001b[1m*\u001b[1m*\u001b[1m*\u001b[1m*\u001b[1m*\u001b[1m*\u001b[1m*\u001b[1m*\u001b[1m*\u001b[1m*\u001b[1m*\u001b[1m*\u001b[1m*\u001b[1m*\u001b[1m*\u001b[1m*\u001b[1m*\u001b[1m*\u001b[1m*\u001b[1m*\u001b[1m*\u001b[1m*\u001b[1m*\u001b[1m*\u001b[1m*\u001b[1m*\u001b[1m*\u001b[1m*\u001b[1m*\u001b[1m*\u001b[1m*\u001b[1m*\u001b[1m*\u001b[1m*\u001b[1m*\u001b[1m*\u001b[1m*\u001b[1m*\u001b[1m*\u001b[1m*\u001b[1m*\u001b[1m*\u001b[1m*\u001b[1m*\u001b[1m*\u001b[1m*\u001b[1m*\u001b[1m*\u001b[1m*\u001b[1m*\u001b[1m*\u001b[1m*\n",
      "\u001b[0m\n"
     ]
    }
   ],
   "source": [
    "# checking missing values in dataset for each attributes / columns \n",
    "\n",
    "print(\"\\033[1m*\"*100)\n",
    "print(\"Column_Name       No_of_Missing_Values\")\n",
    "print(\"*\"*50)\n",
    "print(\"\\033[0m{0}\".format(pdData.isnull().sum()))\n",
    "print(\"\\033[1m*\"*50)\n",
    "print()\n",
    "\n",
    "# checking if any duplicate rows available in the dataset\n",
    "\n",
    "print(\"*\"*100)\n",
    "print(\"Showing Duplicate rows if any in the dataset: \")\n",
    "print(\"*\"*50)\n",
    "print(\"\\033[0m{0}\".format(pdData[pdData.duplicated()]))\n",
    "print(\"\\033[1m*\"*100)\n",
    "print(\"\\033[0m\")"
   ]
  },
  {
   "cell_type": "markdown",
   "metadata": {
    "id": "IRWIuy40wdOX"
   },
   "source": [
    "**As shown above, <br>&nbsp;&nbsp;&nbsp;&nbsp;&nbsp;&nbsp;&nbsp;&nbsp;(a.) There are no missing values<br>and (b.) No duplicate rows in the given dataset**\n"
   ]
  },
  {
   "cell_type": "code",
   "execution_count": null,
   "metadata": {
    "colab": {
     "base_uri": "https://localhost:8080/",
     "height": 770
    },
    "id": "yctXq7qOweIZ",
    "outputId": "6510edb8-41c2-432d-9e06-bbad29dc58e4"
   },
   "outputs": [
    {
     "data": {
      "text/html": [
       "\n",
       "  <div id=\"df-54ed325d-4dfd-4041-b92a-9d3ad1ac68e2\">\n",
       "    <div class=\"colab-df-container\">\n",
       "      <div>\n",
       "<style scoped>\n",
       "    .dataframe tbody tr th:only-of-type {\n",
       "        vertical-align: middle;\n",
       "    }\n",
       "\n",
       "    .dataframe tbody tr th {\n",
       "        vertical-align: top;\n",
       "    }\n",
       "\n",
       "    .dataframe thead th {\n",
       "        text-align: right;\n",
       "    }\n",
       "</style>\n",
       "<table border=\"1\" class=\"dataframe\">\n",
       "  <thead>\n",
       "    <tr style=\"text-align: right;\">\n",
       "      <th></th>\n",
       "      <th>count</th>\n",
       "      <th>mean</th>\n",
       "      <th>std</th>\n",
       "      <th>min</th>\n",
       "      <th>25%</th>\n",
       "      <th>50%</th>\n",
       "      <th>75%</th>\n",
       "      <th>max</th>\n",
       "    </tr>\n",
       "  </thead>\n",
       "  <tbody>\n",
       "    <tr>\n",
       "      <th>mdvp_fo_hz</th>\n",
       "      <td>195.0</td>\n",
       "      <td>154.228641</td>\n",
       "      <td>41.390065</td>\n",
       "      <td>88.333000</td>\n",
       "      <td>117.572000</td>\n",
       "      <td>148.790000</td>\n",
       "      <td>182.769000</td>\n",
       "      <td>260.105000</td>\n",
       "    </tr>\n",
       "    <tr>\n",
       "      <th>mdvp_fhi_hz</th>\n",
       "      <td>195.0</td>\n",
       "      <td>197.104918</td>\n",
       "      <td>91.491548</td>\n",
       "      <td>102.145000</td>\n",
       "      <td>134.862500</td>\n",
       "      <td>175.829000</td>\n",
       "      <td>224.205500</td>\n",
       "      <td>592.030000</td>\n",
       "    </tr>\n",
       "    <tr>\n",
       "      <th>mdvp_flo_hz</th>\n",
       "      <td>195.0</td>\n",
       "      <td>116.324631</td>\n",
       "      <td>43.521413</td>\n",
       "      <td>65.476000</td>\n",
       "      <td>84.291000</td>\n",
       "      <td>104.315000</td>\n",
       "      <td>140.018500</td>\n",
       "      <td>239.170000</td>\n",
       "    </tr>\n",
       "    <tr>\n",
       "      <th>mdvp_jitter_in_percent</th>\n",
       "      <td>195.0</td>\n",
       "      <td>0.006220</td>\n",
       "      <td>0.004848</td>\n",
       "      <td>0.001680</td>\n",
       "      <td>0.003460</td>\n",
       "      <td>0.004940</td>\n",
       "      <td>0.007365</td>\n",
       "      <td>0.033160</td>\n",
       "    </tr>\n",
       "    <tr>\n",
       "      <th>mdvp_jitter_abs</th>\n",
       "      <td>195.0</td>\n",
       "      <td>0.000044</td>\n",
       "      <td>0.000035</td>\n",
       "      <td>0.000007</td>\n",
       "      <td>0.000020</td>\n",
       "      <td>0.000030</td>\n",
       "      <td>0.000060</td>\n",
       "      <td>0.000260</td>\n",
       "    </tr>\n",
       "    <tr>\n",
       "      <th>mdvp_rap</th>\n",
       "      <td>195.0</td>\n",
       "      <td>0.003306</td>\n",
       "      <td>0.002968</td>\n",
       "      <td>0.000680</td>\n",
       "      <td>0.001660</td>\n",
       "      <td>0.002500</td>\n",
       "      <td>0.003835</td>\n",
       "      <td>0.021440</td>\n",
       "    </tr>\n",
       "    <tr>\n",
       "      <th>mdvp_ppq</th>\n",
       "      <td>195.0</td>\n",
       "      <td>0.003446</td>\n",
       "      <td>0.002759</td>\n",
       "      <td>0.000920</td>\n",
       "      <td>0.001860</td>\n",
       "      <td>0.002690</td>\n",
       "      <td>0.003955</td>\n",
       "      <td>0.019580</td>\n",
       "    </tr>\n",
       "    <tr>\n",
       "      <th>jitter_ddp</th>\n",
       "      <td>195.0</td>\n",
       "      <td>0.009920</td>\n",
       "      <td>0.008903</td>\n",
       "      <td>0.002040</td>\n",
       "      <td>0.004985</td>\n",
       "      <td>0.007490</td>\n",
       "      <td>0.011505</td>\n",
       "      <td>0.064330</td>\n",
       "    </tr>\n",
       "    <tr>\n",
       "      <th>mdvp_shimmer</th>\n",
       "      <td>195.0</td>\n",
       "      <td>0.029709</td>\n",
       "      <td>0.018857</td>\n",
       "      <td>0.009540</td>\n",
       "      <td>0.016505</td>\n",
       "      <td>0.022970</td>\n",
       "      <td>0.037885</td>\n",
       "      <td>0.119080</td>\n",
       "    </tr>\n",
       "    <tr>\n",
       "      <th>mdvp_shimmer_db</th>\n",
       "      <td>195.0</td>\n",
       "      <td>0.282251</td>\n",
       "      <td>0.194877</td>\n",
       "      <td>0.085000</td>\n",
       "      <td>0.148500</td>\n",
       "      <td>0.221000</td>\n",
       "      <td>0.350000</td>\n",
       "      <td>1.302000</td>\n",
       "    </tr>\n",
       "    <tr>\n",
       "      <th>shimmer_apq3</th>\n",
       "      <td>195.0</td>\n",
       "      <td>0.015664</td>\n",
       "      <td>0.010153</td>\n",
       "      <td>0.004550</td>\n",
       "      <td>0.008245</td>\n",
       "      <td>0.012790</td>\n",
       "      <td>0.020265</td>\n",
       "      <td>0.056470</td>\n",
       "    </tr>\n",
       "    <tr>\n",
       "      <th>shimmer_apq5</th>\n",
       "      <td>195.0</td>\n",
       "      <td>0.017878</td>\n",
       "      <td>0.012024</td>\n",
       "      <td>0.005700</td>\n",
       "      <td>0.009580</td>\n",
       "      <td>0.013470</td>\n",
       "      <td>0.022380</td>\n",
       "      <td>0.079400</td>\n",
       "    </tr>\n",
       "    <tr>\n",
       "      <th>mdvp_apq</th>\n",
       "      <td>195.0</td>\n",
       "      <td>0.024081</td>\n",
       "      <td>0.016947</td>\n",
       "      <td>0.007190</td>\n",
       "      <td>0.013080</td>\n",
       "      <td>0.018260</td>\n",
       "      <td>0.029400</td>\n",
       "      <td>0.137780</td>\n",
       "    </tr>\n",
       "    <tr>\n",
       "      <th>shimmer_dda</th>\n",
       "      <td>195.0</td>\n",
       "      <td>0.046993</td>\n",
       "      <td>0.030459</td>\n",
       "      <td>0.013640</td>\n",
       "      <td>0.024735</td>\n",
       "      <td>0.038360</td>\n",
       "      <td>0.060795</td>\n",
       "      <td>0.169420</td>\n",
       "    </tr>\n",
       "    <tr>\n",
       "      <th>nhr</th>\n",
       "      <td>195.0</td>\n",
       "      <td>0.024847</td>\n",
       "      <td>0.040418</td>\n",
       "      <td>0.000650</td>\n",
       "      <td>0.005925</td>\n",
       "      <td>0.011660</td>\n",
       "      <td>0.025640</td>\n",
       "      <td>0.314820</td>\n",
       "    </tr>\n",
       "    <tr>\n",
       "      <th>hnr</th>\n",
       "      <td>195.0</td>\n",
       "      <td>21.885974</td>\n",
       "      <td>4.425764</td>\n",
       "      <td>8.441000</td>\n",
       "      <td>19.198000</td>\n",
       "      <td>22.085000</td>\n",
       "      <td>25.075500</td>\n",
       "      <td>33.047000</td>\n",
       "    </tr>\n",
       "    <tr>\n",
       "      <th>rpde</th>\n",
       "      <td>195.0</td>\n",
       "      <td>0.498536</td>\n",
       "      <td>0.103942</td>\n",
       "      <td>0.256570</td>\n",
       "      <td>0.421306</td>\n",
       "      <td>0.495954</td>\n",
       "      <td>0.587562</td>\n",
       "      <td>0.685151</td>\n",
       "    </tr>\n",
       "    <tr>\n",
       "      <th>dfa</th>\n",
       "      <td>195.0</td>\n",
       "      <td>0.718099</td>\n",
       "      <td>0.055336</td>\n",
       "      <td>0.574282</td>\n",
       "      <td>0.674758</td>\n",
       "      <td>0.722254</td>\n",
       "      <td>0.761881</td>\n",
       "      <td>0.825288</td>\n",
       "    </tr>\n",
       "    <tr>\n",
       "      <th>spread1</th>\n",
       "      <td>195.0</td>\n",
       "      <td>-5.684397</td>\n",
       "      <td>1.090208</td>\n",
       "      <td>-7.964984</td>\n",
       "      <td>-6.450096</td>\n",
       "      <td>-5.720868</td>\n",
       "      <td>-5.046192</td>\n",
       "      <td>-2.434031</td>\n",
       "    </tr>\n",
       "    <tr>\n",
       "      <th>spread2</th>\n",
       "      <td>195.0</td>\n",
       "      <td>0.226510</td>\n",
       "      <td>0.083406</td>\n",
       "      <td>0.006274</td>\n",
       "      <td>0.174351</td>\n",
       "      <td>0.218885</td>\n",
       "      <td>0.279234</td>\n",
       "      <td>0.450493</td>\n",
       "    </tr>\n",
       "    <tr>\n",
       "      <th>d2</th>\n",
       "      <td>195.0</td>\n",
       "      <td>2.381826</td>\n",
       "      <td>0.382799</td>\n",
       "      <td>1.423287</td>\n",
       "      <td>2.099125</td>\n",
       "      <td>2.361532</td>\n",
       "      <td>2.636456</td>\n",
       "      <td>3.671155</td>\n",
       "    </tr>\n",
       "    <tr>\n",
       "      <th>ppe</th>\n",
       "      <td>195.0</td>\n",
       "      <td>0.206552</td>\n",
       "      <td>0.090119</td>\n",
       "      <td>0.044539</td>\n",
       "      <td>0.137451</td>\n",
       "      <td>0.194052</td>\n",
       "      <td>0.252980</td>\n",
       "      <td>0.527367</td>\n",
       "    </tr>\n",
       "    <tr>\n",
       "      <th>status</th>\n",
       "      <td>195.0</td>\n",
       "      <td>0.753846</td>\n",
       "      <td>0.431878</td>\n",
       "      <td>0.000000</td>\n",
       "      <td>1.000000</td>\n",
       "      <td>1.000000</td>\n",
       "      <td>1.000000</td>\n",
       "      <td>1.000000</td>\n",
       "    </tr>\n",
       "  </tbody>\n",
       "</table>\n",
       "</div>\n",
       "      <button class=\"colab-df-convert\" onclick=\"convertToInteractive('df-54ed325d-4dfd-4041-b92a-9d3ad1ac68e2')\"\n",
       "              title=\"Convert this dataframe to an interactive table.\"\n",
       "              style=\"display:none;\">\n",
       "        \n",
       "  <svg xmlns=\"http://www.w3.org/2000/svg\" height=\"24px\"viewBox=\"0 0 24 24\"\n",
       "       width=\"24px\">\n",
       "    <path d=\"M0 0h24v24H0V0z\" fill=\"none\"/>\n",
       "    <path d=\"M18.56 5.44l.94 2.06.94-2.06 2.06-.94-2.06-.94-.94-2.06-.94 2.06-2.06.94zm-11 1L8.5 8.5l.94-2.06 2.06-.94-2.06-.94L8.5 2.5l-.94 2.06-2.06.94zm10 10l.94 2.06.94-2.06 2.06-.94-2.06-.94-.94-2.06-.94 2.06-2.06.94z\"/><path d=\"M17.41 7.96l-1.37-1.37c-.4-.4-.92-.59-1.43-.59-.52 0-1.04.2-1.43.59L10.3 9.45l-7.72 7.72c-.78.78-.78 2.05 0 2.83L4 21.41c.39.39.9.59 1.41.59.51 0 1.02-.2 1.41-.59l7.78-7.78 2.81-2.81c.8-.78.8-2.07 0-2.86zM5.41 20L4 18.59l7.72-7.72 1.47 1.35L5.41 20z\"/>\n",
       "  </svg>\n",
       "      </button>\n",
       "      \n",
       "  <style>\n",
       "    .colab-df-container {\n",
       "      display:flex;\n",
       "      flex-wrap:wrap;\n",
       "      gap: 12px;\n",
       "    }\n",
       "\n",
       "    .colab-df-convert {\n",
       "      background-color: #E8F0FE;\n",
       "      border: none;\n",
       "      border-radius: 50%;\n",
       "      cursor: pointer;\n",
       "      display: none;\n",
       "      fill: #1967D2;\n",
       "      height: 32px;\n",
       "      padding: 0 0 0 0;\n",
       "      width: 32px;\n",
       "    }\n",
       "\n",
       "    .colab-df-convert:hover {\n",
       "      background-color: #E2EBFA;\n",
       "      box-shadow: 0px 1px 2px rgba(60, 64, 67, 0.3), 0px 1px 3px 1px rgba(60, 64, 67, 0.15);\n",
       "      fill: #174EA6;\n",
       "    }\n",
       "\n",
       "    [theme=dark] .colab-df-convert {\n",
       "      background-color: #3B4455;\n",
       "      fill: #D2E3FC;\n",
       "    }\n",
       "\n",
       "    [theme=dark] .colab-df-convert:hover {\n",
       "      background-color: #434B5C;\n",
       "      box-shadow: 0px 1px 3px 1px rgba(0, 0, 0, 0.15);\n",
       "      filter: drop-shadow(0px 1px 2px rgba(0, 0, 0, 0.3));\n",
       "      fill: #FFFFFF;\n",
       "    }\n",
       "  </style>\n",
       "\n",
       "      <script>\n",
       "        const buttonEl =\n",
       "          document.querySelector('#df-54ed325d-4dfd-4041-b92a-9d3ad1ac68e2 button.colab-df-convert');\n",
       "        buttonEl.style.display =\n",
       "          google.colab.kernel.accessAllowed ? 'block' : 'none';\n",
       "\n",
       "        async function convertToInteractive(key) {\n",
       "          const element = document.querySelector('#df-54ed325d-4dfd-4041-b92a-9d3ad1ac68e2');\n",
       "          const dataTable =\n",
       "            await google.colab.kernel.invokeFunction('convertToInteractive',\n",
       "                                                     [key], {});\n",
       "          if (!dataTable) return;\n",
       "\n",
       "          const docLinkHtml = 'Like what you see? Visit the ' +\n",
       "            '<a target=\"_blank\" href=https://colab.research.google.com/notebooks/data_table.ipynb>data table notebook</a>'\n",
       "            + ' to learn more about interactive tables.';\n",
       "          element.innerHTML = '';\n",
       "          dataTable['output_type'] = 'display_data';\n",
       "          await google.colab.output.renderOutput(dataTable, element);\n",
       "          const docLink = document.createElement('div');\n",
       "          docLink.innerHTML = docLinkHtml;\n",
       "          element.appendChild(docLink);\n",
       "        }\n",
       "      </script>\n",
       "    </div>\n",
       "  </div>\n",
       "  "
      ],
      "text/plain": [
       "                        count        mean        std         min         25%  \\\n",
       "mdvp_fo_hz              195.0  154.228641  41.390065   88.333000  117.572000   \n",
       "mdvp_fhi_hz             195.0  197.104918  91.491548  102.145000  134.862500   \n",
       "mdvp_flo_hz             195.0  116.324631  43.521413   65.476000   84.291000   \n",
       "mdvp_jitter_in_percent  195.0    0.006220   0.004848    0.001680    0.003460   \n",
       "mdvp_jitter_abs         195.0    0.000044   0.000035    0.000007    0.000020   \n",
       "mdvp_rap                195.0    0.003306   0.002968    0.000680    0.001660   \n",
       "mdvp_ppq                195.0    0.003446   0.002759    0.000920    0.001860   \n",
       "jitter_ddp              195.0    0.009920   0.008903    0.002040    0.004985   \n",
       "mdvp_shimmer            195.0    0.029709   0.018857    0.009540    0.016505   \n",
       "mdvp_shimmer_db         195.0    0.282251   0.194877    0.085000    0.148500   \n",
       "shimmer_apq3            195.0    0.015664   0.010153    0.004550    0.008245   \n",
       "shimmer_apq5            195.0    0.017878   0.012024    0.005700    0.009580   \n",
       "mdvp_apq                195.0    0.024081   0.016947    0.007190    0.013080   \n",
       "shimmer_dda             195.0    0.046993   0.030459    0.013640    0.024735   \n",
       "nhr                     195.0    0.024847   0.040418    0.000650    0.005925   \n",
       "hnr                     195.0   21.885974   4.425764    8.441000   19.198000   \n",
       "rpde                    195.0    0.498536   0.103942    0.256570    0.421306   \n",
       "dfa                     195.0    0.718099   0.055336    0.574282    0.674758   \n",
       "spread1                 195.0   -5.684397   1.090208   -7.964984   -6.450096   \n",
       "spread2                 195.0    0.226510   0.083406    0.006274    0.174351   \n",
       "d2                      195.0    2.381826   0.382799    1.423287    2.099125   \n",
       "ppe                     195.0    0.206552   0.090119    0.044539    0.137451   \n",
       "status                  195.0    0.753846   0.431878    0.000000    1.000000   \n",
       "\n",
       "                               50%         75%         max  \n",
       "mdvp_fo_hz              148.790000  182.769000  260.105000  \n",
       "mdvp_fhi_hz             175.829000  224.205500  592.030000  \n",
       "mdvp_flo_hz             104.315000  140.018500  239.170000  \n",
       "mdvp_jitter_in_percent    0.004940    0.007365    0.033160  \n",
       "mdvp_jitter_abs           0.000030    0.000060    0.000260  \n",
       "mdvp_rap                  0.002500    0.003835    0.021440  \n",
       "mdvp_ppq                  0.002690    0.003955    0.019580  \n",
       "jitter_ddp                0.007490    0.011505    0.064330  \n",
       "mdvp_shimmer              0.022970    0.037885    0.119080  \n",
       "mdvp_shimmer_db           0.221000    0.350000    1.302000  \n",
       "shimmer_apq3              0.012790    0.020265    0.056470  \n",
       "shimmer_apq5              0.013470    0.022380    0.079400  \n",
       "mdvp_apq                  0.018260    0.029400    0.137780  \n",
       "shimmer_dda               0.038360    0.060795    0.169420  \n",
       "nhr                       0.011660    0.025640    0.314820  \n",
       "hnr                      22.085000   25.075500   33.047000  \n",
       "rpde                      0.495954    0.587562    0.685151  \n",
       "dfa                       0.722254    0.761881    0.825288  \n",
       "spread1                  -5.720868   -5.046192   -2.434031  \n",
       "spread2                   0.218885    0.279234    0.450493  \n",
       "d2                        2.361532    2.636456    3.671155  \n",
       "ppe                       0.194052    0.252980    0.527367  \n",
       "status                    1.000000    1.000000    1.000000  "
      ]
     },
     "execution_count": 11,
     "metadata": {},
     "output_type": "execute_result"
    }
   ],
   "source": [
    "# Five point summary of each attribute\n",
    "pdData.describe().T"
   ]
  },
  {
   "cell_type": "code",
   "execution_count": null,
   "metadata": {
    "colab": {
     "base_uri": "https://localhost:8080/"
    },
    "id": "ZH4mTSuzwhXL",
    "outputId": "957e5fd4-19c5-41ab-e7e8-d47aa717cbcf"
   },
   "outputs": [
    {
     "data": {
      "text/plain": [
       "nhr                       4.220709\n",
       "jitter_ddp                3.362058\n",
       "mdvp_rap                  3.360708\n",
       "mdvp_jitter_in_percent    3.084946\n",
       "mdvp_ppq                  3.073892\n",
       "mdvp_jitter_abs           2.649071\n",
       "mdvp_apq                  2.618047\n",
       "mdvp_fhi_hz               2.542146\n",
       "mdvp_shimmer_db           1.999389\n",
       "shimmer_apq5              1.798697\n",
       "mdvp_shimmer              1.666480\n",
       "shimmer_dda               1.580618\n",
       "shimmer_apq3              1.580576\n",
       "mdvp_flo_hz               1.217350\n",
       "ppe                       0.797491\n",
       "mdvp_fo_hz                0.591737\n",
       "spread1                   0.432139\n",
       "d2                        0.430384\n",
       "spread2                   0.144430\n",
       "dfa                      -0.033214\n",
       "rpde                     -0.143402\n",
       "hnr                      -0.514317\n",
       "status                   -1.187727\n",
       "dtype: float64"
      ]
     },
     "execution_count": 12,
     "metadata": {},
     "output_type": "execute_result"
    }
   ],
   "source": [
    "# checking skewness of the data\n",
    "pdData.skew().sort_values(ascending=False)"
   ]
  },
  {
   "cell_type": "markdown",
   "metadata": {
    "id": "cZdjM6uuwsLE"
   },
   "source": [
    "**As from above we understand the following:**\n",
    "* Independent variables are measured in different units e.g. Hz, dB, % and absoulute etc i.e variation in units of data exists and gap between feature values extreamly high. Requires data scalling techniques to scale different quantities of measurements.\n",
    "* Symmetrical distribution : Values close to 0\n",
    "    MDVP:Fo(Hz)\n",
    "    spread1\n",
    "    spread2\n",
    "    PPE\n",
    "* Negative skewness and Tail is larger towards the left hand side of the distribution\n",
    "    HNR\n",
    "    status\n",
    "    RPDE\n",
    "    DFA\n",
    "* Positive skewness and Tail is larger towards the Right hand side of the distribution All other attributes have a very high distribution towards right of the median"
   ]
  },
  {
   "cell_type": "code",
   "execution_count": null,
   "metadata": {
    "colab": {
     "base_uri": "https://localhost:8080/",
     "height": 546
    },
    "id": "Ub4cV-G2zWgw",
    "outputId": "4d1c14cc-0bef-46d6-e882-4f224199abc5"
   },
   "outputs": [
    {
     "data": {
      "text/plain": [
       "<Figure size 1000x500 with 0 Axes>"
      ]
     },
     "metadata": {},
     "output_type": "display_data"
    },
    {
     "data": {
      "image/png": "[encoded data removed]",
      "text/plain": [
       "<Figure size 500x500 with 1 Axes>"
      ]
     },
     "metadata": {},
     "output_type": "display_data"
    }
   ],
   "source": [
    "plt.figure(figsize=(10,5))                                 # setting figure size with width = 10 and height = 5\n",
    "# seaborn count catplot to examine distribution of the status\n",
    "ax = sns.catplot(x='status', kind=\"count\", data=pdData)\n",
    "plt.title(\"Distribution of column : 'Status'\")      # setting title of the figure\n",
    "y = []                                                     # creating a null or empty array\n",
    "for val in range(pdData.status.nunique()):        # looping for number of unique values in the status\n",
    "    # appending count of each unique values from status to array y\n",
    "    y.append(pdData.groupby(pdData.status,sort=False)['status'].count()[val])\n",
    "for i, v in enumerate(y):                                  # looping count of each unique value in the status\n",
    "    # including count of each unique values in the plot \n",
    "    plt.annotate(str(v), xy=(i,float(v)), xytext=(i-0.1, v+3), color='black', fontweight='bold')"
   ]
  },
  {
   "cell_type": "code",
   "execution_count": null,
   "metadata": {
    "colab": {
     "base_uri": "https://localhost:8080/",
     "height": 461
    },
    "id": "hX13X6PNzaEn",
    "outputId": "2613aff6-b5b2-45a3-e4e4-ad709a4ed2c4"
   },
   "outputs": [
    {
     "data": {
      "text/plain": [
       "Text(0.5, 1.0, \"Distribution of column : 'status'\")"
      ]
     },
     "execution_count": 41,
     "metadata": {},
     "output_type": "execute_result"
    },
    {
     "data": {
      "image/png": "[encoded data removed]",
      "text/plain": [
       "<Figure size 500x500 with 1 Axes>"
      ]
     },
     "metadata": {},
     "output_type": "display_data"
    }
   ],
   "source": [
    "plt.figure(figsize=(5,5))                               # setting figure size with width = 10 and height = 5\n",
    "# seaborn pie chart to examine distribution of the status\n",
    "pdData.groupby(['status']).status.count().plot(kind='pie',labels=['Healthy : 0','Parkinson\\'s : 1'],\n",
    "                                                               startangle=90, autopct='%1.1f%%')\n",
    "plt.title(\"Distribution of column : 'status'\")   # setting title of the figure"
   ]
  },
  {
   "cell_type": "markdown",
   "metadata": {
    "id": "9IKi7bRFzegQ"
   },
   "source": [
    "**From above we can see out of 195 patients, 48 patients (24.6 %) are healthy and 147 patients (75.4%) patients are having Parkinson's disease.**"
   ]
  },
  {
   "cell_type": "code",
   "execution_count": null,
   "metadata": {
    "colab": {
     "base_uri": "https://localhost:8080/"
    },
    "id": "0Idm0B3GwsxN",
    "outputId": "646ece40-25bd-4d22-9e55-3d10fc4d821f"
   },
   "outputs": [
    {
     "name": "stdout",
     "output_type": "stream",
     "text": [
      "(136, 22)\n",
      "(59, 22)\n"
     ]
    }
   ],
   "source": [
    "#Split the data into training and test set in the ratio of 70:30 respectively\n",
    "X = pdData.drop(['status'],axis=1)\n",
    "y = pdData['status']\n",
    "\n",
    "# split data into train subset and test subset\n",
    "X_train, X_test, y_train, y_test = train_test_split(X, y, test_size=0.3, random_state=47)\n",
    "\n",
    "# checking the dimensions of the train & test subset\n",
    "# printing dimension of train set\n",
    "print(X_train.shape)\n",
    "# printing dimension of test set\n",
    "print(X_test.shape)"
   ]
  },
  {
   "cell_type": "code",
   "execution_count": null,
   "metadata": {
    "id": "LpJryZD1w8Hk"
   },
   "outputs": [],
   "source": [
    "X_train.drop(['mdvp_jitter_in_percent'],axis=1,inplace=True)\n",
    "X_test.drop(['mdvp_jitter_in_percent'],axis=1,inplace=True)"
   ]
  },
  {
   "cell_type": "code",
   "execution_count": null,
   "metadata": {
    "id": "1mMdZsCIw_Af"
   },
   "outputs": [],
   "source": [
    "X_train.drop(['mdvp_shimmer'],axis=1,inplace=True)\n",
    "X_test.drop(['mdvp_shimmer'],axis=1,inplace=True)"
   ]
  },
  {
   "cell_type": "code",
   "execution_count": null,
   "metadata": {
    "id": "dKKDdLITxAzX"
   },
   "outputs": [],
   "source": [
    "X_train.drop(['hnr'],axis=1,inplace=True)\n",
    "X_test.drop(['hnr'],axis=1,inplace=True)"
   ]
  },
  {
   "cell_type": "code",
   "execution_count": null,
   "metadata": {
    "colab": {
     "base_uri": "https://localhost:8080/"
    },
    "id": "xyrN-cZPxCpw",
    "outputId": "08c1ab47-5efc-40ea-8c73-da64ce383cf7"
   },
   "outputs": [
    {
     "name": "stdout",
     "output_type": "stream",
     "text": [
      "(136, 19)\n",
      "(59, 19)\n"
     ]
    }
   ],
   "source": [
    "# printing dimension of train set\n",
    "print(X_train.shape)\n",
    "# printing dimension of test set\n",
    "print(X_test.shape)"
   ]
  },
  {
   "cell_type": "code",
   "execution_count": null,
   "metadata": {
    "id": "5eOjZkYJxFhg"
   },
   "outputs": [],
   "source": [
    "# Let us scale train as well as test data using StandardScaler\n",
    "scaler = StandardScaler()\n",
    "\n",
    "X_train_scaled = scaler.fit_transform(X_train)\n",
    "X_test_scaled = scaler.fit_transform(X_test)"
   ]
  },
  {
   "cell_type": "code",
   "execution_count": null,
   "metadata": {
    "colab": {
     "base_uri": "https://localhost:8080/"
    },
    "id": "5w9zhSFmxJ2I",
    "outputId": "ca63622f-cb90-4fbf-814e-6907191a2215"
   },
   "outputs": [
    {
     "name": "stdout",
     "output_type": "stream",
     "text": [
      "Confusion Matrix : Logistic Regression\n",
      "[[ 9  4]\n",
      " [ 4 42]]\n",
      "              precision    recall  f1-score   support\n",
      "\n",
      "           0       0.69      0.69      0.69        13\n",
      "           1       0.91      0.91      0.91        46\n",
      "\n",
      "    accuracy                           0.86        59\n",
      "   macro avg       0.80      0.80      0.80        59\n",
      "weighted avg       0.86      0.86      0.86        59\n",
      "\n"
     ]
    }
   ],
   "source": [
    "# Train and Fit model\n",
    "lr = LogisticRegression(random_state=0)\n",
    "lr.fit(X_train_scaled, y_train)\n",
    "\n",
    "#predict status for X_test_scaled dataset \n",
    "lr_y_pred = lr.predict(X_test_scaled)\n",
    "\n",
    "# Confusion Matrix for the Logistic Regression Model\n",
    "print(\"Confusion Matrix : Logistic Regression\")\n",
    "print(confusion_matrix(y_test,lr_y_pred))\n",
    "\n",
    "# Classification Report for the Logistic Regression Model\n",
    "classRep = classification_report(y_test, lr_y_pred, digits=2)\n",
    "print(classRep)"
   ]
  },
  {
   "cell_type": "markdown",
   "metadata": {
    "id": "k5_pYSqaxQFr"
   },
   "source": [
    "**From the above Logistic Regression Model, we can find out the following details:**\n",
    "* **Accuracy of the model:- 86%**\n",
    "* **Re-call of the model:- 91%**\n",
    "* **Precision of the model:- 91%**\n",
    "* **F1-Score of the model:- 91%**"
   ]
  },
  {
   "cell_type": "code",
   "execution_count": null,
   "metadata": {
    "colab": {
     "base_uri": "https://localhost:8080/"
    },
    "id": "7vfOwagsxQgy",
    "outputId": "2e942ef6-86d2-48ed-9956-6ade400264a5"
   },
   "outputs": [
    {
     "name": "stdout",
     "output_type": "stream",
     "text": [
      "The optimal number of neighbors is 29\n"
     ]
    }
   ],
   "source": [
    "# creating odd list of K for KNN\n",
    "myList = list(range(3,40,2))\n",
    "\n",
    "# creating empty list for F1 scores od different value of K\n",
    "f1ScoreList = []\n",
    "\n",
    "# perform accuracy metrics for values from 3,5....29\n",
    "for k in myList:\n",
    "    knn = KNeighborsClassifier(n_neighbors=k)\n",
    "    knn.fit(X_train_scaled, y_train)\n",
    "    # predict the response\n",
    "    y_pred = knn.predict(X_test_scaled)\n",
    "    # evaluate F1 Score\n",
    "    f1Score = f1_score(y_test, y_pred)\n",
    "    f1ScoreList.append(f1Score)\n",
    "\n",
    "# changing to misclassification error\n",
    "MSE = [1 - x for x in f1ScoreList]\n",
    "\n",
    "# determining best k\n",
    "bestk = myList[MSE.index(min(MSE))]\n",
    "print(\"The optimal number of neighbors is %d\" % bestk)"
   ]
  },
  {
   "cell_type": "code",
   "execution_count": null,
   "metadata": {
    "colab": {
     "base_uri": "https://localhost:8080/"
    },
    "id": "2PMKlbf6xZAn",
    "outputId": "0b401969-ec7d-47fd-e2d1-68eaec1b2bcb"
   },
   "outputs": [
    {
     "name": "stdout",
     "output_type": "stream",
     "text": [
      "Confusion Matrix : K-nearest neighbors\n",
      "[[ 8  5]\n",
      " [ 0 46]]\n",
      "              precision    recall  f1-score   support\n",
      "\n",
      "           0       1.00      0.62      0.76        13\n",
      "           1       0.90      1.00      0.95        46\n",
      "\n",
      "    accuracy                           0.92        59\n",
      "   macro avg       0.95      0.81      0.86        59\n",
      "weighted avg       0.92      0.92      0.91        59\n",
      "\n"
     ]
    }
   ],
   "source": [
    "# instantiate learning model (k = 29)\n",
    "knn = KNeighborsClassifier(n_neighbors = 29, weights = 'uniform', metric='euclidean')\n",
    "\n",
    "# fitting the model\n",
    "knn.fit(X_train_scaled, y_train)\n",
    "\n",
    "# predict the response\n",
    "knn_y_pred = knn.predict(X_test_scaled)\n",
    "\n",
    "# Confusion Matrix for the K-nearest neighbors Model\n",
    "print(\"Confusion Matrix : K-nearest neighbors\")\n",
    "print(confusion_matrix(y_test,knn_y_pred))\n",
    "\n",
    "# Classification Report for the K-nearest neighbors Model\n",
    "classRep = classification_report(y_test, knn_y_pred, digits=2)\n",
    "print(classRep)"
   ]
  },
  {
   "cell_type": "markdown",
   "metadata": {
    "id": "nDUAY-l-xd_X"
   },
   "source": [
    "**From the above K-nearest neighbors Model, we can find out the following details:**\n",
    "* **Accuracy of the model:- 92%**\n",
    "* **Re-call of the model:- 100%**\n",
    "* **Precision of the model:- 90%**\n",
    "* **F1-Score of the model:- 95%**"
   ]
  },
  {
   "cell_type": "code",
   "execution_count": null,
   "metadata": {
    "colab": {
     "base_uri": "https://localhost:8080/"
    },
    "id": "uyacn8tXxbSR",
    "outputId": "76602a38-182e-4d25-8835-681025f6fdd2"
   },
   "outputs": [
    {
     "name": "stdout",
     "output_type": "stream",
     "text": [
      "Confusion Matrix : Support Vector Machine\n",
      "[[10  3]\n",
      " [ 0 46]]\n",
      "              precision    recall  f1-score   support\n",
      "\n",
      "           0       1.00      0.77      0.87        13\n",
      "           1       0.94      1.00      0.97        46\n",
      "\n",
      "    accuracy                           0.95        59\n",
      "   macro avg       0.97      0.88      0.92        59\n",
      "weighted avg       0.95      0.95      0.95        59\n",
      "\n"
     ]
    }
   ],
   "source": [
    "svm = SVC(gamma=0.05, C=70,random_state=47)\n",
    "svm.fit(X_train_scaled , y_train)\n",
    "\n",
    "# predict the response\n",
    "svm_y_pred = svm.predict(X_test_scaled)\n",
    "\n",
    "# Confusion Matrix for the Support Vector Machine Model\n",
    "print(\"Confusion Matrix : Support Vector Machine\")\n",
    "print(confusion_matrix(y_test,svm_y_pred))\n",
    "\n",
    "# Classification Report for the Support Vector Machine Model\n",
    "classRep = classification_report(y_test, svm_y_pred, digits=2)\n",
    "print(classRep)"
   ]
  },
  {
   "cell_type": "markdown",
   "metadata": {
    "id": "hvKQRkqRxi8n"
   },
   "source": [
    "**From the above Support Vector Machine Model, we can find out the following details:**\n",
    "* **Accuracy of the model:- 95%**\n",
    "* **Re-call of the model:- 100%**\n",
    "* **Precision of the model:- 94%**\n",
    "* **F1-Score of the model:- 97%**"
   ]
  },
  {
   "cell_type": "code",
   "execution_count": null,
   "metadata": {
    "colab": {
     "base_uri": "https://localhost:8080/"
    },
    "id": "hIGFzOiRxgtK",
    "outputId": "311a364b-ae5c-4dfb-9407-003d96a448bb"
   },
   "outputs": [
    {
     "name": "stdout",
     "output_type": "stream",
     "text": [
      "\u001b[1mLogistic Regression\u001b[0m model have \u001b[1mmean F1-Score\u001b[0m of 0.8930882775410977 and \u001b[1mSD F1-Score\u001b[0m of 0.05346316304648212\n",
      "\u001b[1mK-NN\u001b[0m model have \u001b[1mmean F1-Score\u001b[0m of 0.8805069690035365 and \u001b[1mSD F1-Score\u001b[0m of 0.04633386023424363\n",
      "\u001b[1mSVM\u001b[0m model have \u001b[1mmean F1-Score\u001b[0m of 0.9453975265995727 and \u001b[1mSD F1-Score\u001b[0m of 0.033233692576697435\n"
     ]
    }
   ],
   "source": [
    "#Using K fold to check how the above algorighms varies throughout the dataset with 10 different subset of equal bins\n",
    "models = []\n",
    "models.append(('Logistic Regression', LogisticRegression(random_state=47)))\n",
    "models.append(('K-NN', KNeighborsClassifier(n_neighbors = 29, weights = 'uniform', metric='euclidean')))\n",
    "models.append(('SVM', SVC(gamma=0.05, C=70,random_state=47)))\n",
    "\n",
    "# evaluate each model\n",
    "results = []\n",
    "names = []\n",
    "scoring = 'f1'\n",
    "for name, model in models:\n",
    "    kfold = model_selection.KFold(n_splits=10, random_state=47,shuffle=True)\n",
    "    cv_results = model_selection.cross_val_score(model, X_train_scaled, y_train, cv=kfold, scoring=scoring)\n",
    "    results.append(cv_results)\n",
    "    names.append(name)\n",
    "    print(\"\\033[1m{0}\\033[0m model have \\033[1mmean F1-Score\\033[0m of {1} and \\033[1mSD F1-Score\\033[0m of {2}\".format(name, cv_results.mean(), cv_results.std()))"
   ]
  },
  {
   "cell_type": "code",
   "execution_count": null,
   "metadata": {
    "colab": {
     "base_uri": "https://localhost:8080/",
     "height": 469
    },
    "id": "TRlAIwgXxmhf",
    "outputId": "e6f1ae96-18ec-4f07-e91c-71426a8f2123"
   },
   "outputs": [
    {
     "data": {
      "text/plain": [
       "<matplotlib.legend.Legend at 0x7f2578d65430>"
      ]
     },
     "execution_count": 24,
     "metadata": {},
     "output_type": "execute_result"
    },
    {
     "data": {
      "image/png": "[encoded data removed]",
      "text/plain": [
       "<Figure size 640x480 with 1 Axes>"
      ]
     },
     "metadata": {},
     "output_type": "display_data"
    }
   ],
   "source": [
    "plt.title('Algorithm Comparison')\n",
    "plt.plot(results[0],label='Logistic')\n",
    "plt.plot(results[1],label='KNN')\n",
    "plt.plot(results[2],label='SVM')\n",
    "plt.legend()"
   ]
  },
  {
   "cell_type": "markdown",
   "metadata": {
    "id": "jPcZOoUWxsfr"
   },
   "source": [
    "**From the above comparision of different algorithms (Logistic Regression, K-nearest neighbors and Support Vector Machine) we can conclude that SVM (Support Vector Machine) performed slightly better than other algorithms.**\n"
   ]
  },
  {
   "cell_type": "code",
   "execution_count": null,
   "metadata": {
    "colab": {
     "base_uri": "https://localhost:8080/"
    },
    "id": "mhf72TcLxowl",
    "outputId": "08472481-fa36-4332-ed0e-37189cf218dd"
   },
   "outputs": [
    {
     "name": "stdout",
     "output_type": "stream",
     "text": [
      "Confusion Matrix : Stacking\n",
      "[[10  3]\n",
      " [ 0 46]]\n",
      "              precision    recall  f1-score   support\n",
      "\n",
      "           0       1.00      0.77      0.87        13\n",
      "           1       0.94      1.00      0.97        46\n",
      "\n",
      "    accuracy                           0.95        59\n",
      "   macro avg       0.97      0.88      0.92        59\n",
      "weighted avg       0.95      0.95      0.95        59\n",
      "\n"
     ]
    }
   ],
   "source": [
    "# defining level hetrogenious model\n",
    "level0 = list()\n",
    "level0.append(('lr', LogisticRegression(random_state=47)))\n",
    "level0.append(('knn', KNeighborsClassifier(n_neighbors = 29, weights = 'uniform', metric='euclidean')))\n",
    "level0.append(('cart', DecisionTreeClassifier()))\n",
    "level0.append(('svm', SVC(gamma=0.05, C=70,random_state=47)))\n",
    "level0.append(('bayes', GaussianNB()))\n",
    "\n",
    "# define meta learner model\n",
    "level1 = SVC(gamma=0.05, C=3,random_state=47)\n",
    "\n",
    "# define the stacking ensemble with cross validation of 5\n",
    "Stack_model = StackingClassifier(estimators=level0, final_estimator=level1, cv=5)\n",
    "\n",
    "# predict the response\n",
    "Stack_model.fit(X_train_scaled, y_train)\n",
    "prediction_Stack = Stack_model.predict(X_test_scaled)\n",
    "\n",
    "# Confusion Matrix for the Stacking Model\n",
    "print(\"Confusion Matrix : Stacking\")\n",
    "print(confusion_matrix(y_test,prediction_Stack))\n",
    "\n",
    "# Classification Report for the Stacking Model\n",
    "print(classification_report(y_test, prediction_Stack, digits=2))"
   ]
  },
  {
   "cell_type": "code",
   "execution_count": null,
   "metadata": {
    "colab": {
     "base_uri": "https://localhost:8080/",
     "height": 472
    },
    "id": "LXTggYdlxunt",
    "outputId": "89ebe51c-1dc7-408a-d546-07cf77f55779"
   },
   "outputs": [
    {
     "data": {
      "image/png": "[encoded data removed]",
      "text/plain": [
       "<Figure size 640x480 with 1 Axes>"
      ]
     },
     "metadata": {},
     "output_type": "display_data"
    }
   ],
   "source": [
    "#determining false positive rate and True positive rate, threshold\n",
    "fpr, tpr, threshold = metrics.roc_curve(y_test, prediction_Stack)\n",
    "roc_auc_stack = metrics.auc(fpr, tpr)\n",
    "\n",
    "#plotting ROC curve\n",
    "plt.title('Receiver Operating Characteristic')\n",
    "plt.plot(fpr, tpr, 'b', label = 'AUC = %0.2f' % roc_auc_stack)\n",
    "plt.legend(loc = 'lower right')\n",
    "plt.plot([0, 1], [0, 1],'r--')\n",
    "plt.xlim([0, 1])\n",
    "plt.ylim([0, 1])\n",
    "plt.ylabel('True Positive Rate')\n",
    "plt.xlabel('False Positive Rate')\n",
    "plt.show()"
   ]
  },
  {
   "cell_type": "markdown",
   "metadata": {
    "id": "tAA-70Vqx0VP"
   },
   "source": [
    "**From the above Stacked meta classifier Model, we can find out the following details:**\n",
    "* **Accuracy of the model:- 95%**\n",
    "* **Re-call of the model:- 100%**\n",
    "* **Precision of the model:- 94%**\n",
    "* **F1-Score of the model:- 97%**\n",
    "* **ROC-AUC : 88%**\n"
   ]
  },
  {
   "cell_type": "code",
   "execution_count": null,
   "metadata": {
    "colab": {
     "base_uri": "https://localhost:8080/"
    },
    "id": "KIJUv_8nxxH4",
    "outputId": "01bf0bb3-ac0b-4ddd-c772-275665027ff9"
   },
   "outputs": [
    {
     "name": "stdout",
     "output_type": "stream",
     "text": [
      "Confusion Matrix : Random Forest\n",
      "[[ 9  4]\n",
      " [ 1 45]]\n",
      "              precision    recall  f1-score   support\n",
      "\n",
      "           0       0.90      0.69      0.78        13\n",
      "           1       0.92      0.98      0.95        46\n",
      "\n",
      "    accuracy                           0.92        59\n",
      "   macro avg       0.91      0.84      0.86        59\n",
      "weighted avg       0.91      0.92      0.91        59\n",
      "\n"
     ]
    }
   ],
   "source": [
    "#creating model of Random Forest\n",
    "RandomForest = RandomForestClassifier(n_estimators = 100,criterion='entropy',max_features=10,random_state=47)\n",
    "RandomForest = RandomForest.fit(X_train_scaled, y_train)\n",
    "\n",
    "# predict the response\n",
    "RandomForest_pred = RandomForest.predict(X_test_scaled)\n",
    "\n",
    "# Confusion Matrix for the Random Forest Model\n",
    "print(\"Confusion Matrix : Random Forest\")\n",
    "print(confusion_matrix(y_test,RandomForest_pred))\n",
    "\n",
    "# Classification Report for the Randome Forest Model\n",
    "print(classification_report(y_test, RandomForest_pred, digits=2))"
   ]
  },
  {
   "cell_type": "code",
   "execution_count": null,
   "metadata": {
    "colab": {
     "base_uri": "https://localhost:8080/",
     "height": 472
    },
    "id": "QlnVh3Nvx2hD",
    "outputId": "e6c019fe-08f5-4b80-abde-68d9e69e91ab"
   },
   "outputs": [
    {
     "data": {
      "image/png": "[encoded data removed]",
      "text/plain": [
       "<Figure size 640x480 with 1 Axes>"
      ]
     },
     "metadata": {},
     "output_type": "display_data"
    }
   ],
   "source": [
    "#determining false positive rate and True positive rate, threshold\n",
    "fpr, tpr, threshold = metrics.roc_curve(y_test, RandomForest_pred)\n",
    "roc_auc_rf = metrics.auc(fpr, tpr)\n",
    "\n",
    "#plotting ROC curve\n",
    "plt.title('Receiver Operating Characteristic')\n",
    "plt.plot(fpr, tpr, 'b', label = 'AUC = %0.2f' % roc_auc_rf)\n",
    "plt.legend(loc = 'lower right')\n",
    "plt.plot([0, 1], [0, 1],'r--')\n",
    "plt.xlim([0, 1])\n",
    "plt.ylim([0, 1])\n",
    "plt.ylabel('True Positive Rate')\n",
    "plt.xlabel('False Positive Rate')\n",
    "plt.show()"
   ]
  },
  {
   "cell_type": "markdown",
   "metadata": {
    "id": "rrICa2-cx7xY"
   },
   "source": [
    "**From the above Random Forest Model, we can find out the following details:**\n",
    "* **Accuracy of the model:- 92%**\n",
    "* **Re-call of the model:- 98%**\n",
    "* **Precision of the model:- 92%**\n",
    "* **F1-Score of the model:- 95%**\n",
    "* **ROC-AUC : 84%**\n"
   ]
  },
  {
   "cell_type": "code",
   "execution_count": null,
   "metadata": {
    "colab": {
     "base_uri": "https://localhost:8080/"
    },
    "id": "T3fWR5vmx5E2",
    "outputId": "7e8dd0c6-0f72-4d0a-a6d4-daa4cbf15401"
   },
   "outputs": [
    {
     "data": {
      "text/plain": [
       "ppe                0.212646\n",
       "spread1            0.181815\n",
       "mdvp_fo_hz         0.078539\n",
       "mdvp_apq           0.066849\n",
       "mdvp_fhi_hz        0.053630\n",
       "nhr                0.048251\n",
       "jitter_ddp         0.044719\n",
       "spread2            0.044320\n",
       "mdvp_rap           0.041004\n",
       "mdvp_flo_hz        0.036010\n",
       "rpde               0.029126\n",
       "dfa                0.028516\n",
       "mdvp_jitter_abs    0.028306\n",
       "d2                 0.025957\n",
       "shimmer_dda        0.022860\n",
       "mdvp_ppq           0.020985\n",
       "shimmer_apq3       0.012780\n",
       "mdvp_shimmer_db    0.012384\n",
       "shimmer_apq5       0.011302\n",
       "dtype: float64"
      ]
     },
     "execution_count": 29,
     "metadata": {},
     "output_type": "execute_result"
    }
   ],
   "source": [
    "# Lets check features importance\n",
    "feature_imp = pd.Series(RandomForest.feature_importances_,index=X_train.columns).sort_values(ascending=False)\n",
    "feature_imp"
   ]
  },
  {
   "cell_type": "code",
   "execution_count": null,
   "metadata": {
    "colab": {
     "base_uri": "https://localhost:8080/",
     "height": 466
    },
    "id": "dtT1Zuygx-dj",
    "outputId": "9c5eb0a1-092c-4a39-b8e2-bc854d5704dd"
   },
   "outputs": [
    {
     "data": {
      "text/plain": [
       "Text(0, 0.5, 'Features')"
      ]
     },
     "execution_count": 30,
     "metadata": {},
     "output_type": "execute_result"
    },
    {
     "data": {
      "image/png": "[encoded data removed]",
      "text/plain": [
       "<Figure size 640x480 with 1 Axes>"
      ]
     },
     "metadata": {},
     "output_type": "display_data"
    }
   ],
   "source": [
    "# Creating a bar plot\n",
    "sns.barplot(x=feature_imp, y=feature_imp.index)\n",
    "# Add labels to your graph\n",
    "plt.xlabel('Feature Importance Score')\n",
    "plt.ylabel('Features')"
   ]
  },
  {
   "cell_type": "code",
   "execution_count": null,
   "metadata": {
    "colab": {
     "base_uri": "https://localhost:8080/"
    },
    "id": "XCx-Wp95yBDP",
    "outputId": "e48cce4d-1688-4c66-ee7b-26d42abb1a34"
   },
   "outputs": [
    {
     "name": "stdout",
     "output_type": "stream",
     "text": [
      "Confusion Matrix : Adaptive Boosting\n",
      "[[ 9  4]\n",
      " [ 2 44]]\n",
      "              precision    recall  f1-score   support\n",
      "\n",
      "           0       0.82      0.69      0.75        13\n",
      "           1       0.92      0.96      0.94        46\n",
      "\n",
      "    accuracy                           0.90        59\n",
      "   macro avg       0.87      0.82      0.84        59\n",
      "weighted avg       0.89      0.90      0.90        59\n",
      "\n"
     ]
    }
   ],
   "source": [
    "#creating model of Adaptive Boosting\n",
    "AdBs = AdaBoostClassifier( n_estimators= 50)\n",
    "AdBs  = AdBs.fit(X_train_scaled, y_train)\n",
    "\n",
    "# predict the response\n",
    "AdBs_y_pred = AdBs.predict(X_test_scaled)\n",
    "\n",
    "# Confusion Matrix for the Adaptive Boosting Model\n",
    "print(\"Confusion Matrix : Adaptive Boosting\")\n",
    "print(confusion_matrix(y_test,AdBs_y_pred))\n",
    "\n",
    "# Classification Report for the Adaptive Boosting Model\n",
    "print(classification_report(y_test, AdBs_y_pred, digits=2))"
   ]
  },
  {
   "cell_type": "code",
   "execution_count": null,
   "metadata": {
    "colab": {
     "base_uri": "https://localhost:8080/",
     "height": 472
    },
    "id": "m9zMKUEIyC9N",
    "outputId": "2b36cb39-0f4d-4d90-96d2-41035da85ea0"
   },
   "outputs": [
    {
     "data": {
      "image/png": "[encoded data removed]",
      "text/plain": [
       "<Figure size 640x480 with 1 Axes>"
      ]
     },
     "metadata": {},
     "output_type": "display_data"
    }
   ],
   "source": [
    "#determining false positive rate and True positive rate, threshold\n",
    "fpr, tpr, threshold = metrics.roc_curve(y_test, AdBs_y_pred)\n",
    "roc_auc_ada = metrics.auc(fpr, tpr)\n",
    "\n",
    "#plotting ROC curve\n",
    "plt.title('Receiver Operating Characteristic')\n",
    "plt.plot(fpr, tpr, 'b', label = 'AUC = %0.2f' % roc_auc_ada)\n",
    "plt.legend(loc = 'lower right')\n",
    "plt.plot([0, 1], [0, 1],'r--')\n",
    "plt.xlim([0, 1])\n",
    "plt.ylim([0, 1])\n",
    "plt.ylabel('True Positive Rate')\n",
    "plt.xlabel('False Positive Rate')\n",
    "plt.show()"
   ]
  },
  {
   "cell_type": "markdown",
   "metadata": {
    "id": "vGoExNuAyHdw"
   },
   "source": [
    "**From the above Adaptive Boosting Model, we can find out the following details:**\n",
    "* **Accuracy of the model:- 90%**\n",
    "* **Re-call of the model:- 96%**\n",
    "* **Precision of the model:- 92%**\n",
    "* **F1-Score of the model:- 94%**\n",
    "* **ROC-AUC : 82%**\n"
   ]
  },
  {
   "cell_type": "code",
   "execution_count": null,
   "metadata": {
    "id": "Il8SQwSwyLu0"
   },
   "outputs": [],
   "source": [
    "X_train, X_test, y_train, y_test = train_test_split(X, y, test_size=0.2, random_state=47)"
   ]
  },
  {
   "cell_type": "code",
   "execution_count": null,
   "metadata": {
    "colab": {
     "base_uri": "https://localhost:8080/"
    },
    "id": "YB03yHA6yqxu",
    "outputId": "24d2c294-928c-4716-c95f-2c1ff144cb59"
   },
   "outputs": [
    {
     "name": "stdout",
     "output_type": "stream",
     "text": [
      "97.43589743589743\n",
      "Confusion Matrix : XGBoosting\n",
      "[[ 7  1]\n",
      " [ 0 31]]\n",
      "              precision    recall  f1-score   support\n",
      "\n",
      "           0       1.00      0.88      0.93         8\n",
      "           1       0.97      1.00      0.98        31\n",
      "\n",
      "    accuracy                           0.97        39\n",
      "   macro avg       0.98      0.94      0.96        39\n",
      "weighted avg       0.98      0.97      0.97        39\n",
      "\n"
     ]
    }
   ],
   "source": [
    "# Train the model\n",
    "from xgboost import XGBClassifier\n",
    "\n",
    "\n",
    "model=XGBClassifier()\n",
    "model.fit(X_train,y_train)\n",
    "predict=model.predict(X_test)\n",
    "\n",
    "print(accuracy_score(y_test,predict)*100)\n",
    "\n",
    "# Confusion Matrix for the XGBoosting Model\n",
    "print(\"Confusion Matrix : XGBoosting\")\n",
    "print(confusion_matrix(y_test,predict))\n",
    "\n",
    "# Classification Report for the XGBoosting Model\n",
    "print(classification_report(y_test, predict, digits=2))"
   ]
  },
  {
   "cell_type": "code",
   "execution_count": null,
   "metadata": {
    "colab": {
     "base_uri": "https://localhost:8080/",
     "height": 581
    },
    "id": "UhtnITqYytXF",
    "outputId": "d1b20611-c4a9-4f52-f26a-1a411ad85746"
   },
   "outputs": [
    {
     "data": {
      "text/plain": [
       "Text(0.5, 1.0, 'Output Confusion Matrix')"
      ]
     },
     "execution_count": 37,
     "metadata": {},
     "output_type": "execute_result"
    },
    {
     "data": {
      "image/png": "[encoded data removed]",
      "text/plain": [
       "<Figure size 800x600 with 2 Axes>"
      ]
     },
     "metadata": {},
     "output_type": "display_data"
    }
   ],
   "source": [
    "from sklearn.metrics import confusion_matrix\n",
    "cm=confusion_matrix(y_test,predict)\n",
    "plt.figure(figsize=(8,6))\n",
    "fg=sns.heatmap(cm,annot=True,cmap=\"Reds\")\n",
    "figure=fg.get_figure()\n",
    "plt.xlabel('Predicted')\n",
    "plt.ylabel('Actual')\n",
    "plt.title(\"Output Confusion Matrix\")"
   ]
  },
  {
   "cell_type": "code",
   "execution_count": null,
   "metadata": {
    "colab": {
     "base_uri": "https://localhost:8080/",
     "height": 1000
    },
    "id": "2lIL20NMyzI1",
    "outputId": "bec0ba97-93a1-411f-ced6-a102a0442db8"
   },
   "outputs": [
    {
     "data": {
      "image/png": "[encoded data removed]",
      "text/plain": [
       "<Figure size 1400x1200 with 1 Axes>"
      ]
     },
     "metadata": {},
     "output_type": "display_data"
    }
   ],
   "source": [
    "from sklearn.model_selection import KFold\n",
    "from sklearn.model_selection import cross_val_score\n",
    "# The baseline\n",
    "\n",
    "# Test options and evaluation metric\n",
    "num_folds = 10\n",
    "seed = 7\n",
    "scoring = 'accuracy'\n",
    "\n",
    "# Spot-Check Algorithms\n",
    "models = []\n",
    "models.append(('Logistic Regression', LogisticRegression(random_state=47)))\n",
    "models.append(('K-NN', KNeighborsClassifier(n_neighbors = 29, weights = 'uniform', metric='euclidean')))\n",
    "models.append(('SVM', SVC(gamma=0.05, C=70,random_state=47)))\n",
    "models.append(('Stacking', StackingClassifier(estimators=level0, final_estimator=level1, cv=5)))\n",
    "models.append(('Random Forest', RandomForestClassifier(n_estimators = 100,criterion='entropy',max_features=10,random_state=47)))\n",
    "models.append(('Adaptive Boosting', AdaBoostClassifier( n_estimators= 50)))\n",
    "models.append(('XGBoost',XGBClassifier()))\n",
    "\n",
    "def eval_algorithms(models, show_boxplots=True):\n",
    "    # Evaluate each model in turn\n",
    "    # Setup the test harness to use 10-fold cross validation\n",
    "    results = []\n",
    "    names = []\n",
    "    for name, model in models:\n",
    "        kfold = KFold(n_splits=10, random_state=seed,shuffle=True)\n",
    "        cv_results = cross_val_score(model, X_train, y_train, cv=kfold, scoring=scoring)\n",
    "        results.append(cv_results)\n",
    "        names.append(name)\n",
    "        #print(\"Estimated accuracy of {} with the mean of {} and std. dev. {}\".format(name, cv_results.mean()*100.0, cv_results.std()*100.0))\n",
    "        #print(\"{}: {} ({})\".format(name, cv_results.mean()*100.0, cv_results.std()*100.0))\n",
    "        \n",
    "    if show_boxplots:\n",
    "        # Create a plot of the model evaluation results to compae the spread \n",
    "        # and the estimated mean accuracy of each model\n",
    "        fig = plt.figure(figsize=(14,12)) \n",
    "        fig.suptitle('Algorithm Comparison') \n",
    "        ax = fig.add_subplot(111) \n",
    "        plt.boxplot(results) \n",
    "        ax.set_xticklabels(names) \n",
    "        plt.show()\n",
    "        \n",
    "eval_algorithms(models)"
   ]
  },
  {
   "cell_type": "code",
   "execution_count": null,
   "metadata": {
    "id": "XiI7OuuHy3wc"
   },
   "outputs": [],
   "source": []
  }
 ],
 "metadata": {
  "colab": {
   "provenance": []
  },
  "kernelspec": {
   "display_name": "Python 3",
   "language": "python",
   "name": "python3"
  },
  "language_info": {
   "codemirror_mode": {
    "name": "ipython",
    "version": 3
   },
   "file_extension": ".py",
   "mimetype": "text/x-python",
   "name": "python",
   "nbconvert_exporter": "python",
   "pygments_lexer": "ipython3",
   "version": "3.8.3"
  }
 },
 "nbformat": 4,
 "nbformat_minor": 1
}
